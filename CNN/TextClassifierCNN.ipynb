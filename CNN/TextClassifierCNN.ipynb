{
  "nbformat": 4,
  "nbformat_minor": 0,
  "metadata": {
    "colab": {
      "name": "TextClassifierCNN.ipynb",
      "provenance": [],
      "collapsed_sections": []
    },
    "kernelspec": {
      "name": "python3",
      "display_name": "Python 3"
    },
    "accelerator": "GPU"
  },
  "cells": [
    {
      "cell_type": "markdown",
      "metadata": {
        "id": "Ixp1DaiY3AHe"
      },
      "source": [
        "# Installation and Configuration"
      ]
    },
    {
      "cell_type": "markdown",
      "metadata": {
        "id": "u1UScWlo3EW-"
      },
      "source": [
        "Google Colab offers free GPU and even TPU. For the purpose of simpler setup, we will stick to GPU. Attention models are quite big, so we need to be aware that we are constrained by 12 GB of VRAM in Google Colab as Tesla K80 is used.\n",
        "\n",
        "First, let's check if you have GPU enabled in your session here in Colab. You can do it by running the following code."
      ]
    },
    {
      "cell_type": "code",
      "metadata": {
        "id": "jd0tT7HQ2shq",
        "outputId": "119d93ca-57be-4b02-c483-6b84297b9f0d",
        "colab": {
          "base_uri": "https://localhost:8080/",
          "height": 34
        }
      },
      "source": [
        "import tensorflow as tf\n",
        "\n",
        "# Get the GPU device name.\n",
        "device_name = tf.test.gpu_device_name()\n",
        "\n",
        "# The device name should look like the following:\n",
        "if device_name == '/device:GPU:0':\n",
        "    print('Found GPU at: {}'.format(device_name))\n",
        "else:    \n",
        "    raise SystemError('GPU device not found')"
      ],
      "execution_count": 1,
      "outputs": [
        {
          "output_type": "stream",
          "text": [
            "Found GPU at: /device:GPU:0\n"
          ],
          "name": "stdout"
        }
      ]
    },
    {
      "cell_type": "markdown",
      "metadata": {
        "id": "OxjF4kWs3z68"
      },
      "source": [
        "If you do not have the GPU enabled, just go to:\n",
        "\n",
        "`Edit -> Notebook Settings -> Hardware accelerator -> Set to GPU`\n",
        "\n",
        "To fine-tune our model, we need a couple of libraries to install first. \n",
        "TensorFlow 2 is already preinstalled, so the missing ones are [transformers](https://github.com/huggingface/transformers) and [TensorFlow datasets](https://github.com/tensorflow/datasets). This allows us to very easily import already pre-trained models for TensorFlow 2 and fine-tune with Keras API. "
      ]
    },
    {
      "cell_type": "code",
      "metadata": {
        "id": "7H1RuNQe3lR_"
      },
      "source": [
        "%%bash\n",
        "pip install -q transformers tensorflow_datasets==4.0.1 "
      ],
      "execution_count": 2,
      "outputs": []
    },
    {
      "cell_type": "markdown",
      "metadata": {
        "id": "tEp4PrNXh1Ps"
      },
      "source": [
        "In addition, we install [Tensorflow.JS](https://www.tensorflow.org/js). This will be useful to export our model once trained to deploy it on a web app."
      ]
    },
    {
      "cell_type": "code",
      "metadata": {
        "id": "YA3ObIdl7ZFG",
        "outputId": "9afc2541-20ae-488c-9bd4-cb539a875ff9",
        "colab": {
          "base_uri": "https://localhost:8080/",
          "height": 751
        }
      },
      "source": [
        "%%bash\n",
        "pip install -q tensorflowjs"
      ],
      "execution_count": 3,
      "outputs": [
        {
          "output_type": "stream",
          "text": [
            "Collecting tensorflowjs\n",
            "  Downloading https://files.pythonhosted.org/packages/75/e9/50b7608357b23f24eec4bc2271eda8b9afe7a06788e0346bb153fdc309ab/tensorflowjs-2.6.0-py3-none-any.whl (61kB)\n",
            "Requirement already satisfied: tensorflow-hub<0.10,>=0.7.0 in /usr/local/lib/python3.6/dist-packages (from tensorflowjs) (0.9.0)\n",
            "Requirement already satisfied: six<2,>=1.12.0 in /usr/local/lib/python3.6/dist-packages (from tensorflowjs) (1.15.0)\n",
            "Requirement already satisfied: h5py<3,>=2.8.0 in /usr/local/lib/python3.6/dist-packages (from tensorflowjs) (2.10.0)\n",
            "Requirement already satisfied: tensorflow<3,>=2.1.0 in /usr/local/lib/python3.6/dist-packages (from tensorflowjs) (2.3.0)\n",
            "Requirement already satisfied: protobuf>=3.8.0 in /usr/local/lib/python3.6/dist-packages (from tensorflow-hub<0.10,>=0.7.0->tensorflowjs) (3.12.4)\n",
            "Requirement already satisfied: numpy>=1.12.0 in /usr/local/lib/python3.6/dist-packages (from tensorflow-hub<0.10,>=0.7.0->tensorflowjs) (1.18.5)\n",
            "Requirement already satisfied: scipy==1.4.1 in /usr/local/lib/python3.6/dist-packages (from tensorflow<3,>=2.1.0->tensorflowjs) (1.4.1)\n",
            "Requirement already satisfied: wrapt>=1.11.1 in /usr/local/lib/python3.6/dist-packages (from tensorflow<3,>=2.1.0->tensorflowjs) (1.12.1)\n",
            "Requirement already satisfied: absl-py>=0.7.0 in /usr/local/lib/python3.6/dist-packages (from tensorflow<3,>=2.1.0->tensorflowjs) (0.10.0)\n",
            "Requirement already satisfied: opt-einsum>=2.3.2 in /usr/local/lib/python3.6/dist-packages (from tensorflow<3,>=2.1.0->tensorflowjs) (3.3.0)\n",
            "Requirement already satisfied: tensorboard<3,>=2.3.0 in /usr/local/lib/python3.6/dist-packages (from tensorflow<3,>=2.1.0->tensorflowjs) (2.3.0)\n",
            "Requirement already satisfied: gast==0.3.3 in /usr/local/lib/python3.6/dist-packages (from tensorflow<3,>=2.1.0->tensorflowjs) (0.3.3)\n",
            "Requirement already satisfied: wheel>=0.26 in /usr/local/lib/python3.6/dist-packages (from tensorflow<3,>=2.1.0->tensorflowjs) (0.35.1)\n",
            "Requirement already satisfied: grpcio>=1.8.6 in /usr/local/lib/python3.6/dist-packages (from tensorflow<3,>=2.1.0->tensorflowjs) (1.32.0)\n",
            "Requirement already satisfied: termcolor>=1.1.0 in /usr/local/lib/python3.6/dist-packages (from tensorflow<3,>=2.1.0->tensorflowjs) (1.1.0)\n",
            "Requirement already satisfied: tensorflow-estimator<2.4.0,>=2.3.0 in /usr/local/lib/python3.6/dist-packages (from tensorflow<3,>=2.1.0->tensorflowjs) (2.3.0)\n",
            "Requirement already satisfied: google-pasta>=0.1.8 in /usr/local/lib/python3.6/dist-packages (from tensorflow<3,>=2.1.0->tensorflowjs) (0.2.0)\n",
            "Requirement already satisfied: keras-preprocessing<1.2,>=1.1.1 in /usr/local/lib/python3.6/dist-packages (from tensorflow<3,>=2.1.0->tensorflowjs) (1.1.2)\n",
            "Requirement already satisfied: astunparse==1.6.3 in /usr/local/lib/python3.6/dist-packages (from tensorflow<3,>=2.1.0->tensorflowjs) (1.6.3)\n",
            "Requirement already satisfied: setuptools in /usr/local/lib/python3.6/dist-packages (from protobuf>=3.8.0->tensorflow-hub<0.10,>=0.7.0->tensorflowjs) (50.3.0)\n",
            "Requirement already satisfied: google-auth<2,>=1.6.3 in /usr/local/lib/python3.6/dist-packages (from tensorboard<3,>=2.3.0->tensorflow<3,>=2.1.0->tensorflowjs) (1.17.2)\n",
            "Requirement already satisfied: tensorboard-plugin-wit>=1.6.0 in /usr/local/lib/python3.6/dist-packages (from tensorboard<3,>=2.3.0->tensorflow<3,>=2.1.0->tensorflowjs) (1.7.0)\n",
            "Requirement already satisfied: werkzeug>=0.11.15 in /usr/local/lib/python3.6/dist-packages (from tensorboard<3,>=2.3.0->tensorflow<3,>=2.1.0->tensorflowjs) (1.0.1)\n",
            "Requirement already satisfied: markdown>=2.6.8 in /usr/local/lib/python3.6/dist-packages (from tensorboard<3,>=2.3.0->tensorflow<3,>=2.1.0->tensorflowjs) (3.2.2)\n",
            "Requirement already satisfied: google-auth-oauthlib<0.5,>=0.4.1 in /usr/local/lib/python3.6/dist-packages (from tensorboard<3,>=2.3.0->tensorflow<3,>=2.1.0->tensorflowjs) (0.4.1)\n",
            "Requirement already satisfied: requests<3,>=2.21.0 in /usr/local/lib/python3.6/dist-packages (from tensorboard<3,>=2.3.0->tensorflow<3,>=2.1.0->tensorflowjs) (2.23.0)\n",
            "Requirement already satisfied: pyasn1-modules>=0.2.1 in /usr/local/lib/python3.6/dist-packages (from google-auth<2,>=1.6.3->tensorboard<3,>=2.3.0->tensorflow<3,>=2.1.0->tensorflowjs) (0.2.8)\n",
            "Requirement already satisfied: rsa<5,>=3.1.4; python_version >= \"3\" in /usr/local/lib/python3.6/dist-packages (from google-auth<2,>=1.6.3->tensorboard<3,>=2.3.0->tensorflow<3,>=2.1.0->tensorflowjs) (4.6)\n",
            "Requirement already satisfied: cachetools<5.0,>=2.0.0 in /usr/local/lib/python3.6/dist-packages (from google-auth<2,>=1.6.3->tensorboard<3,>=2.3.0->tensorflow<3,>=2.1.0->tensorflowjs) (4.1.1)\n",
            "Requirement already satisfied: importlib-metadata; python_version < \"3.8\" in /usr/local/lib/python3.6/dist-packages (from markdown>=2.6.8->tensorboard<3,>=2.3.0->tensorflow<3,>=2.1.0->tensorflowjs) (2.0.0)\n",
            "Requirement already satisfied: requests-oauthlib>=0.7.0 in /usr/local/lib/python3.6/dist-packages (from google-auth-oauthlib<0.5,>=0.4.1->tensorboard<3,>=2.3.0->tensorflow<3,>=2.1.0->tensorflowjs) (1.3.0)\n",
            "Requirement already satisfied: urllib3!=1.25.0,!=1.25.1,<1.26,>=1.21.1 in /usr/local/lib/python3.6/dist-packages (from requests<3,>=2.21.0->tensorboard<3,>=2.3.0->tensorflow<3,>=2.1.0->tensorflowjs) (1.24.3)\n",
            "Requirement already satisfied: chardet<4,>=3.0.2 in /usr/local/lib/python3.6/dist-packages (from requests<3,>=2.21.0->tensorboard<3,>=2.3.0->tensorflow<3,>=2.1.0->tensorflowjs) (3.0.4)\n",
            "Requirement already satisfied: certifi>=2017.4.17 in /usr/local/lib/python3.6/dist-packages (from requests<3,>=2.21.0->tensorboard<3,>=2.3.0->tensorflow<3,>=2.1.0->tensorflowjs) (2020.6.20)\n",
            "Requirement already satisfied: idna<3,>=2.5 in /usr/local/lib/python3.6/dist-packages (from requests<3,>=2.21.0->tensorboard<3,>=2.3.0->tensorflow<3,>=2.1.0->tensorflowjs) (2.10)\n",
            "Requirement already satisfied: pyasn1<0.5.0,>=0.4.6 in /usr/local/lib/python3.6/dist-packages (from pyasn1-modules>=0.2.1->google-auth<2,>=1.6.3->tensorboard<3,>=2.3.0->tensorflow<3,>=2.1.0->tensorflowjs) (0.4.8)\n",
            "Requirement already satisfied: zipp>=0.5 in /usr/local/lib/python3.6/dist-packages (from importlib-metadata; python_version < \"3.8\"->markdown>=2.6.8->tensorboard<3,>=2.3.0->tensorflow<3,>=2.1.0->tensorflowjs) (3.2.0)\n",
            "Requirement already satisfied: oauthlib>=3.0.0 in /usr/local/lib/python3.6/dist-packages (from requests-oauthlib>=0.7.0->google-auth-oauthlib<0.5,>=0.4.1->tensorboard<3,>=2.3.0->tensorflow<3,>=2.1.0->tensorflowjs) (3.1.0)\n",
            "Installing collected packages: tensorflowjs\n",
            "Successfully installed tensorflowjs-2.6.0\n"
          ],
          "name": "stdout"
        }
      ]
    },
    {
      "cell_type": "markdown",
      "metadata": {
        "id": "7Ckrcntu4XD_"
      },
      "source": [
        "# Loading AG News dataset"
      ]
    },
    {
      "cell_type": "markdown",
      "metadata": {
        "id": "j1xSGNbC4YXn"
      },
      "source": [
        "We will use [ag_news dataset](https://www.tensorflow.org/datasets/catalog/ag_news_subset). We could load it very quickly just with `tensorflow_datasets` library, with the following code\n",
        "\n",
        "```python\n",
        "import tensorflow_datasets as tfds\n",
        "\n",
        "(ds_train, ds_test), ds_info = tfds.load('ag_news_subset', \n",
        "          split = (tfds.Split.TRAIN, tfds.Split.TEST),\n",
        "          as_supervised=True,\n",
        "          with_info=True\n",
        "          )\n",
        "\n",
        "print('info', ds_info)\n",
        "```\n",
        "\n",
        "The code above returns a dictionary \n",
        "```python\n",
        "FeaturesDict({\n",
        "  'description': Text(shape=(), dtype=tf.string),\n",
        "  'label': ClassLabel(shape=(), dtype=tf.int64, num_classes=4),\n",
        "  'title': Text(shape=(), dtype=tf.string),\n",
        "})\n",
        "```\n",
        "\n",
        "However, since we want to operate some preprocessing, we are going to load data through the usual pandas dataframe from csv, and then convert to a tensorflow dataset, which is the robust, and ready-to-parallel computing format we want to use.\n",
        "\n",
        "The AG's news topic classification dataset is constructed by Xiang Zhang (xiang.zhang@nyu.edu) from the complete dataset of 1 million of news. It is used as a text classification benchmark in the following paper: Xiang Zhang, Junbo Zhao, Yann LeCun. Character-level Convolutional Networks for Text Classification. Advances in Neural Information Processing Systems 28 (NIPS 2015).\n",
        "\n",
        "The AG's news topic classification dataset is constructed by choosing 4 largest classes from the original corpus. Each class contains 30,000 training samples and 1,900 testing samples. The total number of training samples is 120,000 and testing 7,600."
      ]
    },
    {
      "cell_type": "code",
      "metadata": {
        "id": "Rzxp8lfO4OC5",
        "outputId": "06dd38b5-e5f6-45a4-94fa-0e20c3587ac6",
        "colab": {
          "base_uri": "https://localhost:8080/",
          "height": 408
        }
      },
      "source": [
        "import pandas as pd\n",
        "\n",
        "train_data = pd.read_csv('train.csv', engine='python', encoding='utf-8', error_bad_lines=False)\n",
        "test_data = pd.read_csv('test.csv', engine='python', encoding='utf-8', error_bad_lines=False)\n",
        "\n",
        "print('Training set summary\\n')\n",
        "print(train_data.describe())\n",
        "print('Test set summary\\n')\n",
        "print(test_data.describe())"
      ],
      "execution_count": 5,
      "outputs": [
        {
          "output_type": "stream",
          "text": [
            "Training set summary\n",
            "\n",
            "       Class Index\n",
            "count  8439.000000\n",
            "mean      2.491883\n",
            "std       1.132133\n",
            "min       1.000000\n",
            "25%       1.000000\n",
            "50%       2.000000\n",
            "75%       4.000000\n",
            "max       4.000000\n",
            "Test set summary\n",
            "\n",
            "       Class Index\n",
            "count  7600.000000\n",
            "mean      2.500000\n",
            "std       1.118108\n",
            "min       1.000000\n",
            "25%       1.750000\n",
            "50%       2.500000\n",
            "75%       3.250000\n",
            "max       4.000000\n"
          ],
          "name": "stdout"
        },
        {
          "output_type": "stream",
          "text": [
            "Skipping line 8441: unexpected end of data\n"
          ],
          "name": "stderr"
        }
      ]
    },
    {
      "cell_type": "markdown",
      "metadata": {
        "id": "KS2Nc-Nx4uyE"
      },
      "source": [
        "Now let's explore the examples for fine-tunning. We can just take the top 5 examples and labels by `ds_train.take(5)`, so that we can explore the dataset without the need to iterate over whole 25000 examples in train dataset. "
      ]
    },
    {
      "cell_type": "code",
      "metadata": {
        "id": "rC6vxjRm4mvN",
        "outputId": "262b969c-d98e-4957-bc70-d83aa12758f3",
        "colab": {
          "base_uri": "https://localhost:8080/",
          "height": 204
        }
      },
      "source": [
        "train_data.head()"
      ],
      "execution_count": 6,
      "outputs": [
        {
          "output_type": "execute_result",
          "data": {
            "text/html": [
              "<div>\n",
              "<style scoped>\n",
              "    .dataframe tbody tr th:only-of-type {\n",
              "        vertical-align: middle;\n",
              "    }\n",
              "\n",
              "    .dataframe tbody tr th {\n",
              "        vertical-align: top;\n",
              "    }\n",
              "\n",
              "    .dataframe thead th {\n",
              "        text-align: right;\n",
              "    }\n",
              "</style>\n",
              "<table border=\"1\" class=\"dataframe\">\n",
              "  <thead>\n",
              "    <tr style=\"text-align: right;\">\n",
              "      <th></th>\n",
              "      <th>Class Index</th>\n",
              "      <th>Title</th>\n",
              "      <th>Description</th>\n",
              "    </tr>\n",
              "  </thead>\n",
              "  <tbody>\n",
              "    <tr>\n",
              "      <th>0</th>\n",
              "      <td>3</td>\n",
              "      <td>Wall St. Bears Claw Back Into the Black (Reuters)</td>\n",
              "      <td>Reuters - Short-sellers, Wall Street's dwindli...</td>\n",
              "    </tr>\n",
              "    <tr>\n",
              "      <th>1</th>\n",
              "      <td>3</td>\n",
              "      <td>Carlyle Looks Toward Commercial Aerospace (Reu...</td>\n",
              "      <td>Reuters - Private investment firm Carlyle Grou...</td>\n",
              "    </tr>\n",
              "    <tr>\n",
              "      <th>2</th>\n",
              "      <td>3</td>\n",
              "      <td>Oil and Economy Cloud Stocks' Outlook (Reuters)</td>\n",
              "      <td>Reuters - Soaring crude prices plus worries\\ab...</td>\n",
              "    </tr>\n",
              "    <tr>\n",
              "      <th>3</th>\n",
              "      <td>3</td>\n",
              "      <td>Iraq Halts Oil Exports from Main Southern Pipe...</td>\n",
              "      <td>Reuters - Authorities have halted oil export\\f...</td>\n",
              "    </tr>\n",
              "    <tr>\n",
              "      <th>4</th>\n",
              "      <td>3</td>\n",
              "      <td>Oil prices soar to all-time record, posing new...</td>\n",
              "      <td>AFP - Tearaway world oil prices, toppling reco...</td>\n",
              "    </tr>\n",
              "  </tbody>\n",
              "</table>\n",
              "</div>"
            ],
            "text/plain": [
              "   Class Index  ...                                        Description\n",
              "0            3  ...  Reuters - Short-sellers, Wall Street's dwindli...\n",
              "1            3  ...  Reuters - Private investment firm Carlyle Grou...\n",
              "2            3  ...  Reuters - Soaring crude prices plus worries\\ab...\n",
              "3            3  ...  Reuters - Authorities have halted oil export\\f...\n",
              "4            3  ...  AFP - Tearaway world oil prices, toppling reco...\n",
              "\n",
              "[5 rows x 3 columns]"
            ]
          },
          "metadata": {
            "tags": []
          },
          "execution_count": 6
        }
      ]
    },
    {
      "cell_type": "code",
      "metadata": {
        "id": "kXNeph92CCuv",
        "outputId": "820ac476-e91e-48c1-85af-b6cd1af0e33b",
        "colab": {
          "base_uri": "https://localhost:8080/",
          "height": 204
        }
      },
      "source": [
        "test_data.head()"
      ],
      "execution_count": 7,
      "outputs": [
        {
          "output_type": "execute_result",
          "data": {
            "text/html": [
              "<div>\n",
              "<style scoped>\n",
              "    .dataframe tbody tr th:only-of-type {\n",
              "        vertical-align: middle;\n",
              "    }\n",
              "\n",
              "    .dataframe tbody tr th {\n",
              "        vertical-align: top;\n",
              "    }\n",
              "\n",
              "    .dataframe thead th {\n",
              "        text-align: right;\n",
              "    }\n",
              "</style>\n",
              "<table border=\"1\" class=\"dataframe\">\n",
              "  <thead>\n",
              "    <tr style=\"text-align: right;\">\n",
              "      <th></th>\n",
              "      <th>Class Index</th>\n",
              "      <th>Title</th>\n",
              "      <th>Description</th>\n",
              "    </tr>\n",
              "  </thead>\n",
              "  <tbody>\n",
              "    <tr>\n",
              "      <th>0</th>\n",
              "      <td>3</td>\n",
              "      <td>Fears for T N pension after talks</td>\n",
              "      <td>Unions representing workers at Turner   Newall...</td>\n",
              "    </tr>\n",
              "    <tr>\n",
              "      <th>1</th>\n",
              "      <td>4</td>\n",
              "      <td>The Race is On: Second Private Team Sets Launc...</td>\n",
              "      <td>SPACE.com - TORONTO, Canada -- A second\\team o...</td>\n",
              "    </tr>\n",
              "    <tr>\n",
              "      <th>2</th>\n",
              "      <td>4</td>\n",
              "      <td>Ky. Company Wins Grant to Study Peptides (AP)</td>\n",
              "      <td>AP - A company founded by a chemistry research...</td>\n",
              "    </tr>\n",
              "    <tr>\n",
              "      <th>3</th>\n",
              "      <td>4</td>\n",
              "      <td>Prediction Unit Helps Forecast Wildfires (AP)</td>\n",
              "      <td>AP - It's barely dawn when Mike Fitzpatrick st...</td>\n",
              "    </tr>\n",
              "    <tr>\n",
              "      <th>4</th>\n",
              "      <td>4</td>\n",
              "      <td>Calif. Aims to Limit Farm-Related Smog (AP)</td>\n",
              "      <td>AP - Southern California's smog-fighting agenc...</td>\n",
              "    </tr>\n",
              "  </tbody>\n",
              "</table>\n",
              "</div>"
            ],
            "text/plain": [
              "   Class Index  ...                                        Description\n",
              "0            3  ...  Unions representing workers at Turner   Newall...\n",
              "1            4  ...  SPACE.com - TORONTO, Canada -- A second\\team o...\n",
              "2            4  ...  AP - A company founded by a chemistry research...\n",
              "3            4  ...  AP - It's barely dawn when Mike Fitzpatrick st...\n",
              "4            4  ...  AP - Southern California's smog-fighting agenc...\n",
              "\n",
              "[5 rows x 3 columns]"
            ]
          },
          "metadata": {
            "tags": []
          },
          "execution_count": 7
        }
      ]
    },
    {
      "cell_type": "markdown",
      "metadata": {
        "id": "lsqhVrrmDWQ2"
      },
      "source": [
        "## Import libraries"
      ]
    },
    {
      "cell_type": "markdown",
      "metadata": {
        "id": "3xh49OwDisal"
      },
      "source": [
        "Here we import all the libraries we need to build and then train our model."
      ]
    },
    {
      "cell_type": "code",
      "metadata": {
        "id": "FGbQCrqhDVrO",
        "outputId": "af4ba0f4-6228-4375-9079-cf4850e84f88",
        "colab": {
          "base_uri": "https://localhost:8080/",
          "height": 102
        }
      },
      "source": [
        "import re\n",
        "import string\n",
        "import numpy as np\n",
        "from nltk.corpus import stopwords\n",
        "from nltk.tokenize import word_tokenize\n",
        "from sklearn.model_selection import train_test_split\n",
        "import tensorflow as tf\n",
        "import matplotlib.pyplot as plt\n",
        "from gensim.models import Word2Vec\n",
        "import tensorflow_datasets as tfds\n",
        "from tensorflow.keras.models import Sequential\n",
        "from tensorflow.keras.layers import Conv1D, MaxPool1D, Dropout, Dense, GlobalMaxPool1D, Embedding, Activation\n",
        "from keras.utils import to_categorical\n",
        "from keras.preprocessing.text import Tokenizer\n",
        "from keras.preprocessing.sequence import pad_sequences\n",
        "from sklearn import preprocessing\n",
        "\n",
        "import nltk\n",
        "nltk.download('punkt')\n",
        "nltk.download('stopwords')"
      ],
      "execution_count": 14,
      "outputs": [
        {
          "output_type": "stream",
          "text": [
            "[nltk_data] Downloading package punkt to /root/nltk_data...\n",
            "[nltk_data]   Unzipping tokenizers/punkt.zip.\n",
            "[nltk_data] Downloading package stopwords to /root/nltk_data...\n",
            "[nltk_data]   Unzipping corpora/stopwords.zip.\n"
          ],
          "name": "stdout"
        },
        {
          "output_type": "execute_result",
          "data": {
            "text/plain": [
              "True"
            ]
          },
          "metadata": {
            "tags": []
          },
          "execution_count": 14
        }
      ]
    },
    {
      "cell_type": "markdown",
      "metadata": {
        "id": "Y6qJCWp840xY"
      },
      "source": [
        "## Data Preprocessing\n",
        "\n",
        "Here we have to prepare out data, with some text preprocessing, so add special tokens, removing punctuation and stopwords if necessary, and so on."
      ]
    },
    {
      "cell_type": "markdown",
      "metadata": {
        "id": "O9ZwoM5nkOSt"
      },
      "source": [
        "### Rename columns"
      ]
    },
    {
      "cell_type": "code",
      "metadata": {
        "id": "QXAkExDMCva6"
      },
      "source": [
        "# rename labels\n",
        "\n",
        "labels = {1:'World News', 2:'Sports News', 3:'Business News', 4:'Science-Technology News'}\n",
        "\n",
        "train_data['label'] = train_data['Class Index'].map(labels)\n",
        "test_data['label'] = test_data['Class Index'].map(labels)\n",
        "\n",
        "train_data = train_data.drop(columns=['Class Index'])\n",
        "test_data = test_data.drop(columns=['Class Index'])"
      ],
      "execution_count": 9,
      "outputs": []
    },
    {
      "cell_type": "markdown",
      "metadata": {
        "id": "HSdZX6rrkTOK"
      },
      "source": [
        "### Remove punctuation"
      ]
    },
    {
      "cell_type": "markdown",
      "metadata": {
        "id": "Fv1kHPdYiz2N"
      },
      "source": [
        "First of all, we define a function to remove punctuation."
      ]
    },
    {
      "cell_type": "code",
      "metadata": {
        "id": "LTm81Vlm4xEr"
      },
      "source": [
        "# The old and loved remove punctuation function\n",
        "\n",
        "def remove_punc(text):\n",
        "    text = re.sub('\\[.*?\\]', '', text)\n",
        "    text = re.sub('https?://\\S+|www\\.\\S+', '', text)\n",
        "    text = re.sub('<.*?>+', '', text)\n",
        "    text = re.sub('[%s]' % re.escape(string.punctuation), '', text)\n",
        "    text = re.sub('\\n', '', text)\n",
        "    text = re.sub('\\w*\\d\\w*', '', text)\n",
        "    return text"
      ],
      "execution_count": 10,
      "outputs": []
    },
    {
      "cell_type": "code",
      "metadata": {
        "id": "YW-T3kbx5otD"
      },
      "source": [
        "train_data['Text'] = train_data['Description'].apply(lambda x: remove_punc(x))\n",
        "test_data['Text'] = test_data['Description'].apply(lambda x: remove_punc(x))"
      ],
      "execution_count": 11,
      "outputs": []
    },
    {
      "cell_type": "code",
      "metadata": {
        "id": "p5aNMKEr7asa",
        "outputId": "7dfb7543-6a1a-4e16-c327-90a235525fa2",
        "colab": {
          "base_uri": "https://localhost:8080/",
          "height": 204
        }
      },
      "source": [
        "train_data.head()"
      ],
      "execution_count": 12,
      "outputs": [
        {
          "output_type": "execute_result",
          "data": {
            "text/html": [
              "<div>\n",
              "<style scoped>\n",
              "    .dataframe tbody tr th:only-of-type {\n",
              "        vertical-align: middle;\n",
              "    }\n",
              "\n",
              "    .dataframe tbody tr th {\n",
              "        vertical-align: top;\n",
              "    }\n",
              "\n",
              "    .dataframe thead th {\n",
              "        text-align: right;\n",
              "    }\n",
              "</style>\n",
              "<table border=\"1\" class=\"dataframe\">\n",
              "  <thead>\n",
              "    <tr style=\"text-align: right;\">\n",
              "      <th></th>\n",
              "      <th>Title</th>\n",
              "      <th>Description</th>\n",
              "      <th>label</th>\n",
              "      <th>Text</th>\n",
              "    </tr>\n",
              "  </thead>\n",
              "  <tbody>\n",
              "    <tr>\n",
              "      <th>0</th>\n",
              "      <td>Wall St. Bears Claw Back Into the Black (Reuters)</td>\n",
              "      <td>Reuters - Short-sellers, Wall Street's dwindli...</td>\n",
              "      <td>Business News</td>\n",
              "      <td>Reuters  Shortsellers Wall Streets dwindlingba...</td>\n",
              "    </tr>\n",
              "    <tr>\n",
              "      <th>1</th>\n",
              "      <td>Carlyle Looks Toward Commercial Aerospace (Reu...</td>\n",
              "      <td>Reuters - Private investment firm Carlyle Grou...</td>\n",
              "      <td>Business News</td>\n",
              "      <td>Reuters  Private investment firm Carlyle Group...</td>\n",
              "    </tr>\n",
              "    <tr>\n",
              "      <th>2</th>\n",
              "      <td>Oil and Economy Cloud Stocks' Outlook (Reuters)</td>\n",
              "      <td>Reuters - Soaring crude prices plus worries\\ab...</td>\n",
              "      <td>Business News</td>\n",
              "      <td>Reuters  Soaring crude prices plus worriesabou...</td>\n",
              "    </tr>\n",
              "    <tr>\n",
              "      <th>3</th>\n",
              "      <td>Iraq Halts Oil Exports from Main Southern Pipe...</td>\n",
              "      <td>Reuters - Authorities have halted oil export\\f...</td>\n",
              "      <td>Business News</td>\n",
              "      <td>Reuters  Authorities have halted oil exportflo...</td>\n",
              "    </tr>\n",
              "    <tr>\n",
              "      <th>4</th>\n",
              "      <td>Oil prices soar to all-time record, posing new...</td>\n",
              "      <td>AFP - Tearaway world oil prices, toppling reco...</td>\n",
              "      <td>Business News</td>\n",
              "      <td>AFP  Tearaway world oil prices toppling record...</td>\n",
              "    </tr>\n",
              "  </tbody>\n",
              "</table>\n",
              "</div>"
            ],
            "text/plain": [
              "                                               Title  ...                                               Text\n",
              "0  Wall St. Bears Claw Back Into the Black (Reuters)  ...  Reuters  Shortsellers Wall Streets dwindlingba...\n",
              "1  Carlyle Looks Toward Commercial Aerospace (Reu...  ...  Reuters  Private investment firm Carlyle Group...\n",
              "2    Oil and Economy Cloud Stocks' Outlook (Reuters)  ...  Reuters  Soaring crude prices plus worriesabou...\n",
              "3  Iraq Halts Oil Exports from Main Southern Pipe...  ...  Reuters  Authorities have halted oil exportflo...\n",
              "4  Oil prices soar to all-time record, posing new...  ...  AFP  Tearaway world oil prices toppling record...\n",
              "\n",
              "[5 rows x 4 columns]"
            ]
          },
          "metadata": {
            "tags": []
          },
          "execution_count": 12
        }
      ]
    },
    {
      "cell_type": "markdown",
      "metadata": {
        "id": "ylOdDFAjkY7G"
      },
      "source": [
        "### Clean text"
      ]
    },
    {
      "cell_type": "markdown",
      "metadata": {
        "id": "tZBFx44Fi6ua"
      },
      "source": [
        "Hence, making use of nltk tokeniser, we clean our text:\n",
        "\n",
        "1. Lowercase our texts.\n",
        "\n",
        "2. Remove stopwords."
      ]
    },
    {
      "cell_type": "code",
      "metadata": {
        "id": "JmZscfdsDpBH"
      },
      "source": [
        "# data cleaning and remove stopwords\n",
        "\n",
        "def data_cleaner(text):        \n",
        "    lower_case = text.lower()\n",
        "    tokens=word_tokenize(lower_case)\n",
        "    return (\" \".join(tokens)).strip()\n",
        "\n",
        "def remove_stopwords (text):        \n",
        "    list1=[word for word in text.split() if word not in stopwords.words('english')]\n",
        "    return \" \".join(list1)\n",
        "\n",
        "train_data['Text'] = train_data['Text'].apply(lambda x: data_cleaner(x))\n",
        "test_data['Text'] = test_data['Text'].apply(lambda x: data_cleaner(x))\n",
        "\n",
        "train_data['Text'] = train_data['Text'].apply(lambda x: remove_stopwords(x))\n",
        "test_data['Text'] = test_data['Text'].apply(lambda x: remove_stopwords(x))"
      ],
      "execution_count": 15,
      "outputs": []
    },
    {
      "cell_type": "markdown",
      "metadata": {
        "id": "SuXZH2ZqjwhZ"
      },
      "source": [
        "### Tokenise"
      ]
    },
    {
      "cell_type": "markdown",
      "metadata": {
        "id": "NEDdAmdakhvN"
      },
      "source": [
        "We make use of Keras tokeniser to assign to each word a number."
      ]
    },
    {
      "cell_type": "code",
      "metadata": {
        "id": "aO03dJCrGTP8"
      },
      "source": [
        "tokeniser = Tokenizer()\n",
        "tokeniser.fit_on_texts(train_data['Text'])\n",
        "\n",
        "tokenised_text = tokeniser.texts_to_sequences(train_data['Text'])\n",
        "tokenised_text = pad_sequences(tokenised_text, maxlen=75)"
      ],
      "execution_count": 16,
      "outputs": []
    },
    {
      "cell_type": "code",
      "metadata": {
        "id": "Tx-UJnaiGm8l"
      },
      "source": [
        "encoded_labels = preprocessing.LabelEncoder()\n",
        "y = encoded_labels.fit_transform(train_data['label'])\n",
        "y = to_categorical(y)"
      ],
      "execution_count": 17,
      "outputs": []
    },
    {
      "cell_type": "code",
      "metadata": {
        "id": "z0HUzddeG_Ri"
      },
      "source": [
        "tokenised_text_test = tokeniser.texts_to_sequences(test_data['Text'])\n",
        "tokenised_text_test = pad_sequences(tokenised_text_test, maxlen=75)"
      ],
      "execution_count": 18,
      "outputs": []
    },
    {
      "cell_type": "code",
      "metadata": {
        "id": "8LfTxo-rHgzn"
      },
      "source": [
        "y_test = encoded_labels.transform(test_data['label'])\n",
        "y_test = to_categorical(y_test)"
      ],
      "execution_count": 19,
      "outputs": []
    },
    {
      "cell_type": "code",
      "metadata": {
        "id": "F7QPvHrVKycK"
      },
      "source": [
        "vocab_size = len(tokeniser.word_index) + 1"
      ],
      "execution_count": 20,
      "outputs": []
    },
    {
      "cell_type": "markdown",
      "metadata": {
        "id": "uWDqS0OJkp5x"
      },
      "source": [
        "We also export the dictionary word-to-index to a `json` file, this will be needed in order to convert a text to-be-classified in a format that the model can digest."
      ]
    },
    {
      "cell_type": "code",
      "metadata": {
        "id": "GBFMGOPgZ6yj"
      },
      "source": [
        "# Export the ditionary word-to-index to a json file\n",
        "index = tokeniser.word_index\n",
        "\n"
      ],
      "execution_count": 21,
      "outputs": []
    },
    {
      "cell_type": "code",
      "metadata": {
        "id": "q4NdZrIiaKIu"
      },
      "source": [
        "import json \n",
        "with open( 'word_dict.json' , 'w' ) as file:    \n",
        "    json.dump(tokeniser.word_index , file )"
      ],
      "execution_count": 29,
      "outputs": []
    },
    {
      "cell_type": "markdown",
      "metadata": {
        "id": "e2Esa71rIV7c"
      },
      "source": [
        "### Convert data to TensorFlow datasets"
      ]
    },
    {
      "cell_type": "markdown",
      "metadata": {
        "id": "NCH1Q6f9k56Z"
      },
      "source": [
        "We convert data to Tensorflow dataset, in order to feed the Keras model."
      ]
    },
    {
      "cell_type": "code",
      "metadata": {
        "id": "s0olDSVjHXuB"
      },
      "source": [
        "train_dataset = tf.data.Dataset.from_tensor_slices((tokenised_text, y))\n",
        "test_dataset = tf.data.Dataset.from_tensor_slices((tokenised_text_test, y_test))"
      ],
      "execution_count": 17,
      "outputs": []
    },
    {
      "cell_type": "markdown",
      "metadata": {
        "id": "chDp-zhlIdE6"
      },
      "source": [
        "# Building the model"
      ]
    },
    {
      "cell_type": "markdown",
      "metadata": {
        "id": "zQuGa5eNlAvC"
      },
      "source": [
        "We are now ready to build our model, making use of Keras `Sequential` object."
      ]
    },
    {
      "cell_type": "code",
      "metadata": {
        "id": "CpEGQMkZHyAf",
        "outputId": "9c199321-11e5-495b-a3bc-09455494eab4",
        "colab": {
          "base_uri": "https://localhost:8080/",
          "height": 697
        }
      },
      "source": [
        "# build the model\n",
        "\n",
        "keras_model = Sequential()\n",
        "keras_model.add(Embedding(vocab_size, output_dim = 64, input_length=75))\n",
        "keras_model.add(Dropout(0.3))\n",
        "keras_model.add(Conv1D(50, 3, activation='relu', padding='same', strides=1))\n",
        "keras_model.add(MaxPool1D())\n",
        "keras_model.add(Dropout(0.3))\n",
        "keras_model.add(Conv1D(100, 3, activation='relu', padding='same', strides=1))\n",
        "keras_model.add(MaxPool1D())\n",
        "keras_model.add(Dropout(0.3))\n",
        "keras_model.add(Conv1D(200, 3, activation='relu', padding='same', strides=1))\n",
        "keras_model.add(GlobalMaxPool1D())\n",
        "keras_model.add(Dropout(0.3))\n",
        "keras_model.add(Dense(200))\n",
        "keras_model.add(Activation('relu'))\n",
        "keras_model.add(Dropout(0.3))\n",
        "keras_model.add(Dense(4))\n",
        "keras_model.add(Activation('softmax'))\n",
        "keras_model.compile(loss='categorical_crossentropy', metrics=['acc'], optimizer='adam')\n",
        "keras_model.summary()"
      ],
      "execution_count": 19,
      "outputs": [
        {
          "output_type": "stream",
          "text": [
            "Model: \"sequential\"\n",
            "_________________________________________________________________\n",
            "Layer (type)                 Output Shape              Param #   \n",
            "=================================================================\n",
            "embedding (Embedding)        (None, 75, 64)            5327296   \n",
            "_________________________________________________________________\n",
            "dropout (Dropout)            (None, 75, 64)            0         \n",
            "_________________________________________________________________\n",
            "conv1d (Conv1D)              (None, 75, 50)            9650      \n",
            "_________________________________________________________________\n",
            "max_pooling1d (MaxPooling1D) (None, 37, 50)            0         \n",
            "_________________________________________________________________\n",
            "dropout_1 (Dropout)          (None, 37, 50)            0         \n",
            "_________________________________________________________________\n",
            "conv1d_1 (Conv1D)            (None, 37, 100)           15100     \n",
            "_________________________________________________________________\n",
            "max_pooling1d_1 (MaxPooling1 (None, 18, 100)           0         \n",
            "_________________________________________________________________\n",
            "dropout_2 (Dropout)          (None, 18, 100)           0         \n",
            "_________________________________________________________________\n",
            "conv1d_2 (Conv1D)            (None, 18, 200)           60200     \n",
            "_________________________________________________________________\n",
            "global_max_pooling1d (Global (None, 200)               0         \n",
            "_________________________________________________________________\n",
            "dropout_3 (Dropout)          (None, 200)               0         \n",
            "_________________________________________________________________\n",
            "dense (Dense)                (None, 200)               40200     \n",
            "_________________________________________________________________\n",
            "activation (Activation)      (None, 200)               0         \n",
            "_________________________________________________________________\n",
            "dropout_4 (Dropout)          (None, 200)               0         \n",
            "_________________________________________________________________\n",
            "dense_1 (Dense)              (None, 4)                 804       \n",
            "_________________________________________________________________\n",
            "activation_1 (Activation)    (None, 4)                 0         \n",
            "=================================================================\n",
            "Total params: 5,453,250\n",
            "Trainable params: 5,453,250\n",
            "Non-trainable params: 0\n",
            "_________________________________________________________________\n"
          ],
          "name": "stdout"
        }
      ]
    },
    {
      "cell_type": "markdown",
      "metadata": {
        "id": "j2aNBmVAlLXk"
      },
      "source": [
        "# Training"
      ]
    },
    {
      "cell_type": "markdown",
      "metadata": {
        "id": "YiE1kwqflSPI"
      },
      "source": [
        "We are now ready to launch the training, though the `fit` method, we set the numebr of epochs and launch the model."
      ]
    },
    {
      "cell_type": "code",
      "metadata": {
        "id": "gW4Mynh4LBOa",
        "outputId": "434faf04-613e-488d-e45b-51955782c526",
        "colab": {
          "base_uri": "https://localhost:8080/",
          "height": 357
        }
      },
      "source": [
        "#@title Model Training\n",
        "#@markdown We can move sliders to set number of epochs and batch size.\n",
        "\n",
        "number_of_epochs = 10 #@param {type: \"slider\", min: 1, max: 12}\n",
        "batch_size = 64 #@param [\"2\", \"8\", \"16\", \"32\", \"64\", \"128\", \"256\", \"512\"] {type:\"raw\", allow-input: true}\n",
        "\n",
        "# train dataset\n",
        "ds_train_encoded = train_dataset.shuffle(10000).batch(batch_size)\n",
        "\n",
        "# test dataset\n",
        "ds_test_encoded = test_dataset.batch(batch_size)\n",
        "\n",
        "keras_model.fit(ds_train_encoded, epochs=number_of_epochs, validation_data=ds_test_encoded)"
      ],
      "execution_count": null,
      "outputs": [
        {
          "output_type": "stream",
          "text": [
            "Epoch 1/10\n",
            "1875/1875 [==============================] - 103s 55ms/step - loss: 0.4343 - acc: 0.8379 - val_loss: 0.2966 - val_acc: 0.9028\n",
            "Epoch 2/10\n",
            "1875/1875 [==============================] - 102s 54ms/step - loss: 0.2421 - acc: 0.9212 - val_loss: 0.2935 - val_acc: 0.9049\n",
            "Epoch 3/10\n",
            "1875/1875 [==============================] - 104s 55ms/step - loss: 0.1863 - acc: 0.9388 - val_loss: 0.3086 - val_acc: 0.9071\n",
            "Epoch 4/10\n",
            "1875/1875 [==============================] - 103s 55ms/step - loss: 0.1493 - acc: 0.9506 - val_loss: 0.3385 - val_acc: 0.9016\n",
            "Epoch 5/10\n",
            "1875/1875 [==============================] - 103s 55ms/step - loss: 0.1265 - acc: 0.9583 - val_loss: 0.3417 - val_acc: 0.9017\n",
            "Epoch 6/10\n",
            "1875/1875 [==============================] - 103s 55ms/step - loss: 0.1067 - acc: 0.9642 - val_loss: 0.3645 - val_acc: 0.8984\n",
            "Epoch 7/10\n",
            "1875/1875 [==============================] - 103s 55ms/step - loss: 0.0946 - acc: 0.9677 - val_loss: 0.4265 - val_acc: 0.8984\n",
            "Epoch 8/10\n",
            "1875/1875 [==============================] - 103s 55ms/step - loss: 0.0852 - acc: 0.9713 - val_loss: 0.4296 - val_acc: 0.8967\n",
            "Epoch 9/10\n",
            "1875/1875 [==============================] - 103s 55ms/step - loss: 0.0750 - acc: 0.9741 - val_loss: 0.4312 - val_acc: 0.8947\n",
            "Epoch 10/10\n",
            "1298/1875 [===================>..........] - ETA: 31s - loss: 0.0729 - acc: 0.9745"
          ],
          "name": "stdout"
        }
      ]
    },
    {
      "cell_type": "markdown",
      "metadata": {
        "id": "TffY8C8amVJR"
      },
      "source": [
        "# Predictions"
      ]
    },
    {
      "cell_type": "markdown",
      "metadata": {
        "id": "aNaGZtuMmZKQ"
      },
      "source": [
        "Finally, we can now try to make predictions with our model.\n",
        "\n",
        "The function `encode` below takes a text stream and returns the sequence of word indices. \n",
        "\n",
        "The encoded text is the input of the `predict` method of our model."
      ]
    },
    {
      "cell_type": "code",
      "metadata": {
        "id": "EBRsoV-_Ykh5"
      },
      "source": [
        "def encode(text):\n",
        "  text = tokeniser.texts_to_sequences(text)\n",
        "  return pad_sequences(text, maxlen=75)"
      ],
      "execution_count": 25,
      "outputs": []
    },
    {
      "cell_type": "markdown",
      "metadata": {
        "id": "DIhV0Wjqmxx3"
      },
      "source": [
        "Here some examples. \n",
        "Feel free to add as many other sentences as you like."
      ]
    },
    {
      "cell_type": "code",
      "metadata": {
        "id": "s_yai4MLZRfu",
        "outputId": "8b7e17bc-b200-40f0-e1cf-d693ae8e31ed",
        "colab": {
          "base_uri": "https://localhost:8080/",
          "height": 629
        }
      },
      "source": [
        "additional_sentence = \"\" #@param {type:\"string\"}\n",
        "\n",
        "my_sentences = ['President Bush wants the war in Iraq, again', \n",
        "                \"LeBron James wins the NBA championship with Los Angeles Lakers\", \n",
        "                \"Eni stock action value rise up to 14$\",\n",
        "                \"Futures in New York held near $41 a barrel after Saudi Oil Minister Prince Abdulaziz Bin Salman called on the OPEC+ alliance to be proactive in the face of uncertain demand. Yet a draft statement from the meeting made no mention of any changes to the current deal, which calls for production cuts to be eased from January. The market is also looking out for any signs that a stimulus deal can still be agreed in Washington ahead of the election while a resurgence in the pandemic threatens any recovery.\",\n",
        "                additional_sentence\n",
        "                ]\n",
        "\n",
        "encode(my_sentences)"
      ],
      "execution_count": 26,
      "outputs": [
        {
          "output_type": "execute_result",
          "data": {
            "text/plain": [
              "array([[    0,     0,     0,     0,     0,     0,     0,     0,     0,\n",
              "            0,     0,     0,     0,     0,     0,     0,     0,     0,\n",
              "            0,     0,     0,     0,     0,     0,     0,     0,     0,\n",
              "            0,     0,     0,     0,     0,     0,     0,     0,     0,\n",
              "            0,     0,     0,     0,     0,     0,     0,     0,     0,\n",
              "            0,     0,     0,     0,     0,     0,     0,     0,     0,\n",
              "            0,     0,     0,     0,     0,     0,     0,     0,     0,\n",
              "            0,     0,     0,     0,     0,     0,     0,    21,   115,\n",
              "          821,   196,    44],\n",
              "       [    0,     0,     0,     0,     0,     0,     0,     0,     0,\n",
              "            0,     0,     0,     0,     0,     0,     0,     0,     0,\n",
              "            0,     0,     0,     0,     0,     0,     0,     0,     0,\n",
              "            0,     0,     0,     0,     0,     0,     0,     0,     0,\n",
              "            0,     0,     0,     0,     0,     0,     0,     0,     0,\n",
              "            0,     0,     0,     0,     0,     0,     0,     0,     0,\n",
              "            0,     0,     0,     0,     0,     0,     0,     0,     0,\n",
              "            0,     0,     0,     0,  4541,  1122,  1822,   992,   227,\n",
              "          337,   359,  3488],\n",
              "       [    0,     0,     0,     0,     0,     0,     0,     0,     0,\n",
              "            0,     0,     0,     0,     0,     0,     0,     0,     0,\n",
              "            0,     0,     0,     0,     0,     0,     0,     0,     0,\n",
              "            0,     0,     0,     0,     0,     0,     0,     0,     0,\n",
              "            0,     0,     0,     0,     0,     0,     0,     0,     0,\n",
              "            0,     0,     0,     0,     0,     0,     0,     0,     0,\n",
              "            0,     0,     0,     0,     0,     0,     0,     0,     0,\n",
              "            0,     0,     0,     0,     0,     0,     0, 58118,   200,\n",
              "          508,  1413,   462],\n",
              "       [    0,     0,     0,     0,     0,     0,     0,     0,     0,\n",
              "            0,     0,     0,     0,     0,     0,     0,     0,     0,\n",
              "            0,     0,     0,     0,     0,     0,     0,     0,     0,\n",
              "         1017,     2,    19,   218,   271,   527,  1534,    23,    48,\n",
              "         2203,  1978, 25679,   237,  1737,  1511, 26272,   410,  4939,\n",
              "          339,   512,  1675,   906,   349,    93,  7875,  1132,   726,\n",
              "          112,   852,   546,   893,  1891,   912,    62,   241,   636,\n",
              "         1250, 22116,   112,   171,   140,    56,   267,   167, 12569,\n",
              "        11956,  4589,  1320]], dtype=int32)"
            ]
          },
          "metadata": {
            "tags": []
          },
          "execution_count": 26
        }
      ]
    },
    {
      "cell_type": "markdown",
      "metadata": {
        "id": "GClE9Y94nUAo"
      },
      "source": [
        "`predict` method returns a vector of probablities."
      ]
    },
    {
      "cell_type": "code",
      "metadata": {
        "id": "t9fUlVDJZcik",
        "outputId": "e2ee275e-acbb-4cff-cee8-3df157bf6ee5",
        "colab": {
          "base_uri": "https://localhost:8080/",
          "height": 102
        }
      },
      "source": [
        "keras_model.predict(encode(my_sentences))"
      ],
      "execution_count": 27,
      "outputs": [
        {
          "output_type": "execute_result",
          "data": {
            "text/plain": [
              "array([[1.4816790e-02, 5.7411911e-03, 2.2339085e-03, 9.7720814e-01],\n",
              "       [1.8991686e-05, 5.1643121e-07, 9.9855369e-01, 1.4267210e-03],\n",
              "       [9.9205595e-01, 4.9115764e-03, 1.2471098e-04, 2.9077958e-03],\n",
              "       [9.9427831e-01, 1.4267343e-05, 1.0767265e-05, 5.6966553e-03]],\n",
              "      dtype=float32)"
            ]
          },
          "metadata": {
            "tags": []
          },
          "execution_count": 27
        }
      ]
    },
    {
      "cell_type": "markdown",
      "metadata": {
        "id": "2vYthelGnbms"
      },
      "source": [
        "In order to get the predicted class, one can call the `argmax` function."
      ]
    },
    {
      "cell_type": "code",
      "metadata": {
        "id": "UAaREXccaZD6",
        "outputId": "6ff20f35-cb2c-4b5e-9801-d4799cff8dd7",
        "colab": {
          "base_uri": "https://localhost:8080/",
          "height": 173
        }
      },
      "source": [
        "for i, sen in enumerate(my_sentences):\n",
        "  print(i, sen)\n",
        "  print(encoded_labels.classes_[np.argmax(keras_model.predict(encode(my_sentences))[i])])"
      ],
      "execution_count": 28,
      "outputs": [
        {
          "output_type": "stream",
          "text": [
            "0 President Bush wants the war in Iraq, again\n",
            "World News\n",
            "1 LeBron James wins the NBA championship with Los Angeles Lakers\n",
            "Sports News\n",
            "2 Eni stock action value rise up to 14$\n",
            "Business News\n",
            "3 Futures in New York held near $41 a barrel after Saudi Oil Minister Prince Abdulaziz Bin Salman called on the OPEC+ alliance to be proactive in the face of uncertain demand. Yet a draft statement from the meeting made no mention of any changes to the current deal, which calls for production cuts to be eased from January. The market is also looking out for any signs that a stimulus deal can still be agreed in Washington ahead of the election while a resurgence in the pandemic threatens any recovery.\n",
            "Business News\n"
          ],
          "name": "stdout"
        }
      ]
    },
    {
      "cell_type": "markdown",
      "metadata": {
        "id": "dSStIitN7_bK"
      },
      "source": [
        "# Save model and export in JavaScript"
      ]
    },
    {
      "cell_type": "markdown",
      "metadata": {
        "id": "zXFZuCMOnk6i"
      },
      "source": [
        "In order to convert our model using Tensorflow.js, we have to save the trained model."
      ]
    },
    {
      "cell_type": "code",
      "metadata": {
        "id": "PLhmQHok7-sW"
      },
      "source": [
        "#save Keras model\n",
        "saved_model_path = \"modelCNN.h5\"\n",
        "\n",
        "keras_model.save(saved_model_path)"
      ],
      "execution_count": 29,
      "outputs": []
    },
    {
      "cell_type": "markdown",
      "metadata": {
        "id": "ll0V2AVtnwho"
      },
      "source": [
        "Hence, we are ready to convert the saved model."
      ]
    },
    {
      "cell_type": "code",
      "metadata": {
        "id": "Ux3IC9uq8Qeh",
        "outputId": "c226a3c5-47e5-4b39-fb76-f95dcf4ef818",
        "colab": {
          "base_uri": "https://localhost:8080/",
          "height": 34
        }
      },
      "source": [
        "%%bash\n",
        "tensorflowjs_converter --input_format=keras modelCNN.h5 ./model/"
      ],
      "execution_count": 35,
      "outputs": [
        {
          "output_type": "stream",
          "text": [
            "2020-10-19 18:11:42.511967: I tensorflow/stream_executor/platform/default/dso_loader.cc:48] Successfully opened dynamic library libcudart.so.10.1\n"
          ],
          "name": "stderr"
        }
      ]
    },
    {
      "cell_type": "markdown",
      "metadata": {
        "id": "PCV2uTkGn045"
      },
      "source": [
        "Since we have not only the model, but also weights files, we zip everything to make it ready to download."
      ]
    },
    {
      "cell_type": "code",
      "metadata": {
        "id": "6DTmN8L6_05O",
        "outputId": "a291cf3e-c862-4d8a-ad38-826ebc33819e",
        "colab": {
          "base_uri": "https://localhost:8080/",
          "height": 170
        }
      },
      "source": [
        "%%bash\n",
        "zip -r model.zip ./model"
      ],
      "execution_count": 36,
      "outputs": [
        {
          "output_type": "stream",
          "text": [
            "  adding: model/ (stored 0%)\n",
            "  adding: model/model.json (deflated 83%)\n",
            "  adding: model/group1-shard6of6.bin (deflated 7%)\n",
            "  adding: model/group1-shard5of6.bin (deflated 7%)\n",
            "  adding: model/modelCNN.h5 (deflated 19%)\n",
            "  adding: model/group1-shard3of6.bin (deflated 7%)\n",
            "  adding: model/group1-shard1of6.bin (deflated 7%)\n",
            "  adding: model/group1-shard4of6.bin (deflated 7%)\n",
            "  adding: model/group1-shard2of6.bin (deflated 7%)\n"
          ],
          "name": "stdout"
        }
      ]
    }
  ]
}