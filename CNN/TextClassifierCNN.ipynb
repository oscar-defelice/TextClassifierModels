{
  "nbformat": 4,
  "nbformat_minor": 0,
  "metadata": {
    "colab": {
      "name": "TextClassifierCNN.ipynb",
      "provenance": [],
      "collapsed_sections": [],
      "toc_visible": true,
      "authorship_tag": "ABX9TyOffx5VoApOv7F1Sivbux2h",
      "include_colab_link": true
    },
    "kernelspec": {
      "name": "python3",
      "display_name": "Python 3"
    },
    "accelerator": "GPU"
  },
  "cells": [
    {
      "cell_type": "markdown",
      "metadata": {
        "id": "view-in-github",
        "colab_type": "text"
      },
      "source": [
        "<a href=\"https://colab.research.google.com/github/oscar-defelice/TextClassifierModels/blob/main/CNN/TextClassifierCNN.ipynb\" target=\"_parent\"><img src=\"https://colab.research.google.com/assets/colab-badge.svg\" alt=\"Open In Colab\"/></a>"
      ]
    },
    {
      "cell_type": "markdown",
      "metadata": {
        "id": "Ixp1DaiY3AHe"
      },
      "source": [
        "# Installation and Configuration"
      ]
    },
    {
      "cell_type": "markdown",
      "metadata": {
        "id": "u1UScWlo3EW-"
      },
      "source": [
        "Google Colab offers free GPU and even TPU. For the purpose of simpler setup, we will stick to GPU. Attention models are quite big, so we need to be aware that we are constrained by 12 GB of VRAM in Google Colab as Tesla K80 is used.\n",
        "\n",
        "First, let's check if you have GPU enabled in your session here in Colab. You can do it by running the following code."
      ]
    },
    {
      "cell_type": "code",
      "metadata": {
        "id": "jd0tT7HQ2shq",
        "outputId": "be8f5046-c53d-44eb-a880-411c07f5983c",
        "colab": {
          "base_uri": "https://localhost:8080/",
          "height": 34
        }
      },
      "source": [
        "import tensorflow as tf\n",
        "\n",
        "# Get the GPU device name.\n",
        "device_name = tf.test.gpu_device_name()\n",
        "\n",
        "# The device name should look like the following:\n",
        "if device_name == '/device:GPU:0':\n",
        "    print('Found GPU at: {}'.format(device_name))\n",
        "else:    \n",
        "    raise SystemError('GPU device not found')"
      ],
      "execution_count": 1,
      "outputs": [
        {
          "output_type": "stream",
          "text": [
            "Found GPU at: /device:GPU:0\n"
          ],
          "name": "stdout"
        }
      ]
    },
    {
      "cell_type": "markdown",
      "metadata": {
        "id": "OxjF4kWs3z68"
      },
      "source": [
        "If you do not have the GPU enabled, just go to:\n",
        "\n",
        "`Edit -> Notebook Settings -> Hardware accelerator -> Set to GPU`\n",
        "\n",
        "To fine-tune our model, we need a couple of libraries to install first. \n",
        "TensorFlow 2 is already preinstalled, so the missing ones are [transformers](https://github.com/huggingface/transformers) and [TensorFlow datasets](https://github.com/tensorflow/datasets). This allows us to very easily import already pre-trained models for TensorFlow 2 and fine-tune with Keras API. "
      ]
    },
    {
      "cell_type": "code",
      "metadata": {
        "id": "7H1RuNQe3lR_"
      },
      "source": [
        "%%bash\n",
        "pip install -q transformers tensorflow_datasets==4.0.1 "
      ],
      "execution_count": 2,
      "outputs": []
    },
    {
      "cell_type": "markdown",
      "metadata": {
        "id": "tEp4PrNXh1Ps"
      },
      "source": [
        "In addition, we install [Tensorflow.JS](https://www.tensorflow.org/js). This will be useful to export our model once trained to deploy it on a web app."
      ]
    },
    {
      "cell_type": "code",
      "metadata": {
        "id": "YA3ObIdl7ZFG"
      },
      "source": [
        "%%bash\n",
        "pip install -q tensorflowjs"
      ],
      "execution_count": 3,
      "outputs": []
    },
    {
      "cell_type": "markdown",
      "metadata": {
        "id": "7Ckrcntu4XD_"
      },
      "source": [
        "# Loading AG News dataset"
      ]
    },
    {
      "cell_type": "markdown",
      "metadata": {
        "id": "j1xSGNbC4YXn"
      },
      "source": [
        "We will use [ag_news dataset](https://www.tensorflow.org/datasets/catalog/ag_news_subset).\n",
        "\n",
        "The AG's news topic classification dataset is constructed by Xiang Zhang (xiang.zhang@nyu.edu) from the complete dataset of 1 million of news. It is used as a text classification benchmark in the following paper: Xiang Zhang, Junbo Zhao, Yann LeCun. Character-level Convolutional Networks for Text Classification. Advances in Neural Information Processing Systems 28 (NIPS 2015).\n",
        "\n",
        "The AG's news topic classification dataset is constructed by choosing 4 largest classes from the original corpus. Each class contains 30,000 training samples and 1,900 testing samples. The total number of training samples is 120,000 and testing 7,600.\n",
        "\n",
        "Although we could load data very quickly just with `tensorflow_datasets` library, with the following code\n",
        "\n",
        "```python\n",
        "import tensorflow_datasets as tfds\n",
        "\n",
        "(ds_train, ds_test), ds_info = tfds.load('ag_news_subset', \n",
        "          split = (tfds.Split.TRAIN, tfds.Split.TEST),\n",
        "          as_supervised=True,\n",
        "          with_info=True\n",
        "          )\n",
        "\n",
        "print('info', ds_info)\n",
        "```\n",
        "\n",
        "Note how the code above returns a dictionary \n",
        "```python\n",
        "FeaturesDict({\n",
        "  'description': Text(shape=(), dtype=tf.string),\n",
        "  'label': ClassLabel(shape=(), dtype=tf.int64, num_classes=4),\n",
        "  'title': Text(shape=(), dtype=tf.string),\n",
        "})\n",
        "```\n",
        "\n",
        "We want to operate some preprocessing, thus we are going to load data through the usual pandas dataframe from csv, and then convert to a tensorflow dataset, which is the robust, and ready-to-parallel computing format we want to use."
      ]
    },
    {
      "cell_type": "code",
      "metadata": {
        "id": "kq7---q-mOwg",
        "outputId": "0f162301-673a-43d0-fa06-a3e8bc9f7231",
        "colab": {
          "base_uri": "https://localhost:8080/",
          "height": 1000
        }
      },
      "source": [
        "%%bash\n",
        "wget https://s3.amazonaws.com/fast-ai-nlp/ag_news_csv.tgz\n",
        "mkdir -p data && tar -xvzf ag_news_csv.tgz -C data/"
      ],
      "execution_count": 4,
      "outputs": [
        {
          "output_type": "stream",
          "text": [
            "ag_news_csv/\n",
            "ag_news_csv/train.csv\n",
            "ag_news_csv/readme.txt\n",
            "ag_news_csv/test.csv\n",
            "ag_news_csv/classes.txt\n"
          ],
          "name": "stdout"
        },
        {
          "output_type": "stream",
          "text": [
            "--2020-10-26 10:51:13--  https://s3.amazonaws.com/fast-ai-nlp/ag_news_csv.tgz\n",
            "Resolving s3.amazonaws.com (s3.amazonaws.com)... 52.217.64.158\n",
            "Connecting to s3.amazonaws.com (s3.amazonaws.com)|52.217.64.158|:443... connected.\n",
            "HTTP request sent, awaiting response... 200 OK\n",
            "Length: 11784419 (11M) [application/x-tar]\n",
            "Saving to: ‘ag_news_csv.tgz.1’\n",
            "\n",
            "     0K .......... .......... .......... .......... ..........  0% 1.65M 7s\n",
            "    50K .......... .......... .......... .......... ..........  0% 1.68M 7s\n",
            "   100K .......... .......... .......... .......... ..........  1% 1.68M 7s\n",
            "   150K .......... .......... .......... .......... ..........  1%  144M 5s\n",
            "   200K .......... .......... .......... .......... ..........  2% 1.70M 5s\n",
            "   250K .......... .......... .......... .......... ..........  2% 94.5M 4s\n",
            "   300K .......... .......... .......... .......... ..........  3%  178M 4s\n",
            "   350K .......... .......... .......... .......... ..........  3%  164M 3s\n",
            "   400K .......... .......... .......... .......... ..........  3%  174M 3s\n",
            "   450K .......... .......... .......... .......... ..........  4% 1.76M 3s\n",
            "   500K .......... .......... .......... .......... ..........  4%  166M 3s\n",
            "   550K .......... .......... .......... .......... ..........  5%  171M 3s\n",
            "   600K .......... .......... .......... .......... ..........  5%  158M 2s\n",
            "   650K .......... .......... .......... .......... ..........  6%  154M 2s\n",
            "   700K .......... .......... .......... .......... ..........  6%  148M 2s\n",
            "   750K .......... .......... .......... .......... ..........  6%  133M 2s\n",
            "   800K .......... .......... .......... .......... ..........  7%  168M 2s\n",
            "   850K .......... .......... .......... .......... ..........  7%  183M 2s\n",
            "   900K .......... .......... .......... .......... ..........  8%  180M 2s\n",
            "   950K .......... .......... .......... .......... ..........  8% 1.84M 2s\n",
            "  1000K .......... .......... .......... .......... ..........  9%  123M 2s\n",
            "  1050K .......... .......... .......... .......... ..........  9%  161M 2s\n",
            "  1100K .......... .......... .......... .......... ..........  9%  156M 2s\n",
            "  1150K .......... .......... .......... .......... .......... 10%  155M 2s\n",
            "  1200K .......... .......... .......... .......... .......... 10%  141M 1s\n",
            "  1250K .......... .......... .......... .......... .......... 11%  153M 1s\n",
            "  1300K .......... .......... .......... .......... .......... 11%  173M 1s\n",
            "  1350K .......... .......... .......... .......... .......... 12%  151M 1s\n",
            "  1400K .......... .......... .......... .......... .......... 12%  161M 1s\n",
            "  1450K .......... .......... .......... .......... .......... 13%  151M 1s\n",
            "  1500K .......... .......... .......... .......... .......... 13%  137M 1s\n",
            "  1550K .......... .......... .......... .......... .......... 13%  159M 1s\n",
            "  1600K .......... .......... .......... .......... .......... 14%  174M 1s\n",
            "  1650K .......... .......... .......... .......... .......... 14%  154M 1s\n",
            "  1700K .......... .......... .......... .......... .......... 15%  143M 1s\n",
            "  1750K .......... .......... .......... .......... .......... 15%  175M 1s\n",
            "  1800K .......... .......... .......... .......... .......... 16%  195M 1s\n",
            "  1850K .......... .......... .......... .......... .......... 16%  173M 1s\n",
            "  1900K .......... .......... .......... .......... .......... 16%  163M 1s\n",
            "  1950K .......... .......... .......... .......... .......... 17% 2.10M 1s\n",
            "  2000K .......... .......... .......... .......... .......... 17%  179M 1s\n",
            "  2050K .......... .......... .......... .......... .......... 18%  221M 1s\n",
            "  2100K .......... .......... .......... .......... .......... 18%  136M 1s\n",
            "  2150K .......... .......... .......... .......... .......... 19%  156M 1s\n",
            "  2200K .......... .......... .......... .......... .......... 19% 73.1M 1s\n",
            "  2250K .......... .......... .......... .......... .......... 19% 62.2M 1s\n",
            "  2300K .......... .......... .......... .......... .......... 20% 74.2M 1s\n",
            "  2350K .......... .......... .......... .......... .......... 20% 85.5M 1s\n",
            "  2400K .......... .......... .......... .......... .......... 21%  184M 1s\n",
            "  2450K .......... .......... .......... .......... .......... 21%  109M 1s\n",
            "  2500K .......... .......... .......... .......... .......... 22%  152M 1s\n",
            "  2550K .......... .......... .......... .......... .......... 22%  133M 1s\n",
            "  2600K .......... .......... .......... .......... .......... 23%  192M 1s\n",
            "  2650K .......... .......... .......... .......... .......... 23%  234M 1s\n",
            "  2700K .......... .......... .......... .......... .......... 23%  199M 1s\n",
            "  2750K .......... .......... .......... .......... .......... 24%  220M 1s\n",
            "  2800K .......... .......... .......... .......... .......... 24%  260M 1s\n",
            "  2850K .......... .......... .......... .......... .......... 25% 88.7M 1s\n",
            "  2900K .......... .......... .......... .......... .......... 25%  109M 1s\n",
            "  2950K .......... .......... .......... .......... .......... 26%  195M 1s\n",
            "  3000K .......... .......... .......... .......... .......... 26%  185M 1s\n",
            "  3050K .......... .......... .......... .......... .......... 26%  182M 1s\n",
            "  3100K .......... .......... .......... .......... .......... 27%  149M 1s\n",
            "  3150K .......... .......... .......... .......... .......... 27%  193M 1s\n",
            "  3200K .......... .......... .......... .......... .......... 28%  180M 1s\n",
            "  3250K .......... .......... .......... .......... .......... 28%  183M 1s\n",
            "  3300K .......... .......... .......... .......... .......... 29%  160M 1s\n",
            "  3350K .......... .......... .......... .......... .......... 29%  189M 1s\n",
            "  3400K .......... .......... .......... .......... .......... 29%  196M 1s\n",
            "  3450K .......... .......... .......... .......... .......... 30%  172M 0s\n",
            "  3500K .......... .......... .......... .......... .......... 30%  171M 0s\n",
            "  3550K .......... .......... .......... .......... .......... 31%  183M 0s\n",
            "  3600K .......... .......... .......... .......... .......... 31%  211M 0s\n",
            "  3650K .......... .......... .......... .......... .......... 32%  200M 0s\n",
            "  3700K .......... .......... .......... .......... .......... 32%  199M 0s\n",
            "  3750K .......... .......... .......... .......... .......... 33%  225M 0s\n",
            "  3800K .......... .......... .......... .......... .......... 33%  201M 0s\n",
            "  3850K .......... .......... .......... .......... .......... 33%  200M 0s\n",
            "  3900K .......... .......... .......... .......... .......... 34%  175M 0s\n",
            "  3950K .......... .......... .......... .......... .......... 34% 2.95M 0s\n",
            "  4000K .......... .......... .......... .......... .......... 35%  199M 0s\n",
            "  4050K .......... .......... .......... .......... .......... 35%  236M 0s\n",
            "  4100K .......... .......... .......... .......... .......... 36%  221M 0s\n",
            "  4150K .......... .......... .......... .......... .......... 36%  206M 0s\n",
            "  4200K .......... .......... .......... .......... .......... 36%  119M 0s\n",
            "  4250K .......... .......... .......... .......... .......... 37%  133M 0s\n",
            "  4300K .......... .......... .......... .......... .......... 37% 92.0M 0s\n",
            "  4350K .......... .......... .......... .......... .......... 38%  163M 0s\n",
            "  4400K .......... .......... .......... .......... .......... 38%  216M 0s\n",
            "  4450K .......... .......... .......... .......... .......... 39%  235M 0s\n",
            "  4500K .......... .......... .......... .......... .......... 39%  184M 0s\n",
            "  4550K .......... .......... .......... .......... .......... 39%  214M 0s\n",
            "  4600K .......... .......... .......... .......... .......... 40%  245M 0s\n",
            "  4650K .......... .......... .......... .......... .......... 40%  210M 0s\n",
            "  4700K .......... .......... .......... .......... .......... 41%  193M 0s\n",
            "  4750K .......... .......... .......... .......... .......... 41%  219M 0s\n",
            "  4800K .......... .......... .......... .......... .......... 42%  230M 0s\n",
            "  4850K .......... .......... .......... .......... .......... 42%  235M 0s\n",
            "  4900K .......... .......... .......... .......... .......... 43%  199M 0s\n",
            "  4950K .......... .......... .......... .......... .......... 43%  204M 0s\n",
            "  5000K .......... .......... .......... .......... .......... 43%  211M 0s\n",
            "  5050K .......... .......... .......... .......... .......... 44%  237M 0s\n",
            "  5100K .......... .......... .......... .......... .......... 44%  183M 0s\n",
            "  5150K .......... .......... .......... .......... .......... 45%  167M 0s\n",
            "  5200K .......... .......... .......... .......... .......... 45%  196M 0s\n",
            "  5250K .......... .......... .......... .......... .......... 46%  262M 0s\n",
            "  5300K .......... .......... .......... .......... .......... 46%  197M 0s\n",
            "  5350K .......... .......... .......... .......... .......... 46%  180M 0s\n",
            "  5400K .......... .......... .......... .......... .......... 47%  195M 0s\n",
            "  5450K .......... .......... .......... .......... .......... 47%  194M 0s\n",
            "  5500K .......... .......... .......... .......... .......... 48%  154M 0s\n",
            "  5550K .......... .......... .......... .......... .......... 48%  200M 0s\n",
            "  5600K .......... .......... .......... .......... .......... 49%  227M 0s\n",
            "  5650K .......... .......... .......... .......... .......... 49%  210M 0s\n",
            "  5700K .......... .......... .......... .......... .......... 49%  201M 0s\n",
            "  5750K .......... .......... .......... .......... .......... 50%  219M 0s\n",
            "  5800K .......... .......... .......... .......... .......... 50%  248M 0s\n",
            "  5850K .......... .......... .......... .......... .......... 51%  231M 0s\n",
            "  5900K .......... .......... .......... .......... .......... 51%  185M 0s\n",
            "  5950K .......... .......... .......... .......... .......... 52%  217M 0s\n",
            "  6000K .......... .......... .......... .......... .......... 52%  210M 0s\n",
            "  6050K .......... .......... .......... .......... .......... 53%  211M 0s\n",
            "  6100K .......... .......... .......... .......... .......... 53%  200M 0s\n",
            "  6150K .......... .......... .......... .......... .......... 53%  224M 0s\n",
            "  6200K .......... .......... .......... .......... .......... 54%  212M 0s\n",
            "  6250K .......... .......... .......... .......... .......... 54%  238M 0s\n",
            "  6300K .......... .......... .......... .......... .......... 55%  196M 0s\n",
            "  6350K .......... .......... .......... .......... .......... 55%  247M 0s\n",
            "  6400K .......... .......... .......... .......... .......... 56%  208M 0s\n",
            "  6450K .......... .......... .......... .......... .......... 56%  224M 0s\n",
            "  6500K .......... .......... .......... .......... .......... 56%  212M 0s\n",
            "  6550K .......... .......... .......... .......... .......... 57%  221M 0s\n",
            "  6600K .......... .......... .......... .......... .......... 57%  237M 0s\n",
            "  6650K .......... .......... .......... .......... .......... 58%  250M 0s\n",
            "  6700K .......... .......... .......... .......... .......... 58%  215M 0s\n",
            "  6750K .......... .......... .......... .......... .......... 59%  270M 0s\n",
            "  6800K .......... .......... .......... .......... .......... 59% 3.14M 0s\n",
            "  6850K .......... .......... .......... .......... .......... 59%  234M 0s\n",
            "  6900K .......... .......... .......... .......... .......... 60%  211M 0s\n",
            "  6950K .......... .......... .......... .......... .......... 60%  209M 0s\n",
            "  7000K .......... .......... .......... .......... .......... 61%  249M 0s\n",
            "  7050K .......... .......... .......... .......... .......... 61%  216M 0s\n",
            "  7100K .......... .......... .......... .......... .......... 62%  197M 0s\n",
            "  7150K .......... .......... .......... .......... .......... 62%  240M 0s\n",
            "  7200K .......... .......... .......... .......... .......... 62%  234M 0s\n",
            "  7250K .......... .......... .......... .......... .......... 63%  224M 0s\n",
            "  7300K .......... .......... .......... .......... .......... 63%  207M 0s\n",
            "  7350K .......... .......... .......... .......... .......... 64%  230M 0s\n",
            "  7400K .......... .......... .......... .......... .......... 64%  219M 0s\n",
            "  7450K .......... .......... .......... .......... .......... 65%  225M 0s\n",
            "  7500K .......... .......... .......... .......... .......... 65%  196M 0s\n",
            "  7550K .......... .......... .......... .......... .......... 66%  223M 0s\n",
            "  7600K .......... .......... .......... .......... .......... 66%  262M 0s\n",
            "  7650K .......... .......... .......... .......... .......... 66%  228M 0s\n",
            "  7700K .......... .......... .......... .......... .......... 67%  187M 0s\n",
            "  7750K .......... .......... .......... .......... .......... 67%  257M 0s\n",
            "  7800K .......... .......... .......... .......... .......... 68%  234M 0s\n",
            "  7850K .......... .......... .......... .......... .......... 68%  251M 0s\n",
            "  7900K .......... .......... .......... .......... .......... 69%  203M 0s\n",
            "  7950K .......... .......... .......... .......... .......... 69%  210M 0s\n",
            "  8000K .......... .......... .......... .......... .......... 69%  213M 0s\n",
            "  8050K .......... .......... .......... .......... .......... 70%  242M 0s\n",
            "  8100K .......... .......... .......... .......... .......... 70%  197M 0s\n",
            "  8150K .......... .......... .......... .......... .......... 71%  230M 0s\n",
            "  8200K .......... .......... .......... .......... .......... 71%  242M 0s\n",
            "  8250K .......... .......... .......... .......... .......... 72%  223M 0s\n",
            "  8300K .......... .......... .......... .......... .......... 72%  128M 0s\n",
            "  8350K .......... .......... .......... .......... .......... 72%  207M 0s\n",
            "  8400K .......... .......... .......... .......... .......... 73%  242M 0s\n",
            "  8450K .......... .......... .......... .......... .......... 73%  228M 0s\n",
            "  8500K .......... .......... .......... .......... .......... 74%  204M 0s\n",
            "  8550K .......... .......... .......... .......... .......... 74%  236M 0s\n",
            "  8600K .......... .......... .......... .......... .......... 75%  114M 0s\n",
            "  8650K .......... .......... .......... .......... .......... 75%  243M 0s\n",
            "  8700K .......... .......... .......... .......... .......... 76%  194M 0s\n",
            "  8750K .......... .......... .......... .......... .......... 76%  229M 0s\n",
            "  8800K .......... .......... .......... .......... .......... 76%  143M 0s\n",
            "  8850K .......... .......... .......... .......... .......... 77%  201M 0s\n",
            "  8900K .......... .......... .......... .......... .......... 77%  188M 0s\n",
            "  8950K .......... .......... .......... .......... .......... 78%  188M 0s\n",
            "  9000K .......... .......... .......... .......... .......... 78%  230M 0s\n",
            "  9050K .......... .......... .......... .......... .......... 79%  233M 0s\n",
            "  9100K .......... .......... .......... .......... .......... 79%  206M 0s\n",
            "  9150K .......... .......... .......... .......... .......... 79%  235M 0s\n",
            "  9200K .......... .......... .......... .......... .......... 80%  113M 0s\n",
            "  9250K .......... .......... .......... .......... .......... 80%  221M 0s\n",
            "  9300K .......... .......... .......... .......... .......... 81%  199M 0s\n",
            "  9350K .......... .......... .......... .......... .......... 81%  221M 0s\n",
            "  9400K .......... .......... .......... .......... .......... 82%  246M 0s\n",
            "  9450K .......... .......... .......... .......... .......... 82%  241M 0s\n",
            "  9500K .......... .......... .......... .......... .......... 82%  186M 0s\n",
            "  9550K .......... .......... .......... .......... .......... 83%  256M 0s\n",
            "  9600K .......... .......... .......... .......... .......... 83%  222M 0s\n",
            "  9650K .......... .......... .......... .......... .......... 84%  267M 0s\n",
            "  9700K .......... .......... .......... .......... .......... 84% 3.04M 0s\n",
            "  9750K .......... .......... .......... .......... .......... 85%  210M 0s\n",
            "  9800K .......... .......... .......... .......... .......... 85%  209M 0s\n",
            "  9850K .......... .......... .......... .......... .......... 86%  214M 0s\n",
            "  9900K .......... .......... .......... .......... .......... 86%  201M 0s\n",
            "  9950K .......... .......... .......... .......... .......... 86%  242M 0s\n",
            " 10000K .......... .......... .......... .......... .......... 87%  221M 0s\n",
            " 10050K .......... .......... .......... .......... .......... 87%  252M 0s\n",
            " 10100K .......... .......... .......... .......... .......... 88%  195M 0s\n",
            " 10150K .......... .......... .......... .......... .......... 88%  248M 0s\n",
            " 10200K .......... .......... .......... .......... .......... 89%  246M 0s\n",
            " 10250K .......... .......... .......... .......... .......... 89%  212M 0s\n",
            " 10300K .......... .......... .......... .......... .......... 89%  184M 0s\n",
            " 10350K .......... .......... .......... .......... .......... 90%  206M 0s\n",
            " 10400K .......... .......... .......... .......... .......... 90%  219M 0s\n",
            " 10450K .......... .......... .......... .......... .......... 91%  239M 0s\n",
            " 10500K .......... .......... .......... .......... .......... 91%  232M 0s\n",
            " 10550K .......... .......... .......... .......... .......... 92%  197M 0s\n",
            " 10600K .......... .......... .......... .......... .......... 92%  229M 0s\n",
            " 10650K .......... .......... .......... .......... .......... 92%  225M 0s\n",
            " 10700K .......... .......... .......... .......... .......... 93%  212M 0s\n",
            " 10750K .......... .......... .......... .......... .......... 93%  209M 0s\n",
            " 10800K .......... .......... .......... .......... .......... 94%  231M 0s\n",
            " 10850K .......... .......... .......... .......... .......... 94%  202M 0s\n",
            " 10900K .......... .......... .......... .......... .......... 95%  231M 0s\n",
            " 10950K .......... .......... .......... .......... .......... 95%  181M 0s\n",
            " 11000K .......... .......... .......... .......... .......... 96%  189M 0s\n",
            " 11050K .......... .......... .......... .......... .......... 96%  215M 0s\n",
            " 11100K .......... .......... .......... .......... .......... 96%  180M 0s\n",
            " 11150K .......... .......... .......... .......... .......... 97%  152M 0s\n",
            " 11200K .......... .......... .......... .......... .......... 97%  162M 0s\n",
            " 11250K .......... .......... .......... .......... .......... 98%  180M 0s\n",
            " 11300K .......... .......... .......... .......... .......... 98% 83.4M 0s\n",
            " 11350K .......... .......... .......... .......... .......... 99%  154M 0s\n",
            " 11400K .......... .......... .......... .......... .......... 99%  191M 0s\n",
            " 11450K .......... .......... .......... .......... .......... 99%  149M 0s\n",
            " 11500K ........                                              100%  155M=0.3s\n",
            "\n",
            "2020-10-26 10:51:14 (37.3 MB/s) - ‘ag_news_csv.tgz.1’ saved [11784419/11784419]\n",
            "\n"
          ],
          "name": "stderr"
        }
      ]
    },
    {
      "cell_type": "code",
      "metadata": {
        "id": "Rzxp8lfO4OC5",
        "outputId": "24c42252-9a48-4b59-ac04-0ca7eeddd328",
        "colab": {
          "base_uri": "https://localhost:8080/",
          "height": 391
        }
      },
      "source": [
        "import pandas as pd\n",
        "\n",
        "train_data = pd.read_csv('/content/data/ag_news_csv/train.csv', engine='python', encoding='utf-8', header =None, names=['Class Index',\t'Title',\t'Description'])\n",
        "test_data = pd.read_csv('/content/data/ag_news_csv/test.csv', engine='python', encoding='utf-8', header = None, names=['Class Index',\t'Title',\t'Description'])\n",
        "\n",
        "print('Training set summary\\n')\n",
        "print(train_data.describe())\n",
        "print('Test set summary\\n')\n",
        "print(test_data.describe())"
      ],
      "execution_count": 5,
      "outputs": [
        {
          "output_type": "stream",
          "text": [
            "Training set summary\n",
            "\n",
            "         Class Index\n",
            "count  120000.000000\n",
            "mean        2.500000\n",
            "std         1.118039\n",
            "min         1.000000\n",
            "25%         1.750000\n",
            "50%         2.500000\n",
            "75%         3.250000\n",
            "max         4.000000\n",
            "Test set summary\n",
            "\n",
            "       Class Index\n",
            "count  7600.000000\n",
            "mean      2.500000\n",
            "std       1.118108\n",
            "min       1.000000\n",
            "25%       1.750000\n",
            "50%       2.500000\n",
            "75%       3.250000\n",
            "max       4.000000\n"
          ],
          "name": "stdout"
        }
      ]
    },
    {
      "cell_type": "markdown",
      "metadata": {
        "id": "KS2Nc-Nx4uyE"
      },
      "source": [
        "Now let's explore the examples for fine-tunning. We can just take the top 5 examples and labels by `ds_train.take(5)`, so that we can explore the dataset without the need to iterate over whole 25000 examples in train dataset. "
      ]
    },
    {
      "cell_type": "code",
      "metadata": {
        "id": "rC6vxjRm4mvN",
        "outputId": "7390772a-fa8d-49fe-88d8-0f87d1c71277",
        "colab": {
          "base_uri": "https://localhost:8080/",
          "height": 204
        }
      },
      "source": [
        "train_data.head()"
      ],
      "execution_count": 6,
      "outputs": [
        {
          "output_type": "execute_result",
          "data": {
            "text/html": [
              "<div>\n",
              "<style scoped>\n",
              "    .dataframe tbody tr th:only-of-type {\n",
              "        vertical-align: middle;\n",
              "    }\n",
              "\n",
              "    .dataframe tbody tr th {\n",
              "        vertical-align: top;\n",
              "    }\n",
              "\n",
              "    .dataframe thead th {\n",
              "        text-align: right;\n",
              "    }\n",
              "</style>\n",
              "<table border=\"1\" class=\"dataframe\">\n",
              "  <thead>\n",
              "    <tr style=\"text-align: right;\">\n",
              "      <th></th>\n",
              "      <th>Class Index</th>\n",
              "      <th>Title</th>\n",
              "      <th>Description</th>\n",
              "    </tr>\n",
              "  </thead>\n",
              "  <tbody>\n",
              "    <tr>\n",
              "      <th>0</th>\n",
              "      <td>3</td>\n",
              "      <td>Wall St. Bears Claw Back Into the Black (Reuters)</td>\n",
              "      <td>Reuters - Short-sellers, Wall Street's dwindli...</td>\n",
              "    </tr>\n",
              "    <tr>\n",
              "      <th>1</th>\n",
              "      <td>3</td>\n",
              "      <td>Carlyle Looks Toward Commercial Aerospace (Reu...</td>\n",
              "      <td>Reuters - Private investment firm Carlyle Grou...</td>\n",
              "    </tr>\n",
              "    <tr>\n",
              "      <th>2</th>\n",
              "      <td>3</td>\n",
              "      <td>Oil and Economy Cloud Stocks' Outlook (Reuters)</td>\n",
              "      <td>Reuters - Soaring crude prices plus worries\\ab...</td>\n",
              "    </tr>\n",
              "    <tr>\n",
              "      <th>3</th>\n",
              "      <td>3</td>\n",
              "      <td>Iraq Halts Oil Exports from Main Southern Pipe...</td>\n",
              "      <td>Reuters - Authorities have halted oil export\\f...</td>\n",
              "    </tr>\n",
              "    <tr>\n",
              "      <th>4</th>\n",
              "      <td>3</td>\n",
              "      <td>Oil prices soar to all-time record, posing new...</td>\n",
              "      <td>AFP - Tearaway world oil prices, toppling reco...</td>\n",
              "    </tr>\n",
              "  </tbody>\n",
              "</table>\n",
              "</div>"
            ],
            "text/plain": [
              "   Class Index  ...                                        Description\n",
              "0            3  ...  Reuters - Short-sellers, Wall Street's dwindli...\n",
              "1            3  ...  Reuters - Private investment firm Carlyle Grou...\n",
              "2            3  ...  Reuters - Soaring crude prices plus worries\\ab...\n",
              "3            3  ...  Reuters - Authorities have halted oil export\\f...\n",
              "4            3  ...  AFP - Tearaway world oil prices, toppling reco...\n",
              "\n",
              "[5 rows x 3 columns]"
            ]
          },
          "metadata": {
            "tags": []
          },
          "execution_count": 6
        }
      ]
    },
    {
      "cell_type": "code",
      "metadata": {
        "id": "kXNeph92CCuv",
        "outputId": "1f971127-6c20-4357-96cf-9c0ff5e2b759",
        "colab": {
          "base_uri": "https://localhost:8080/",
          "height": 204
        }
      },
      "source": [
        "test_data.head()"
      ],
      "execution_count": 7,
      "outputs": [
        {
          "output_type": "execute_result",
          "data": {
            "text/html": [
              "<div>\n",
              "<style scoped>\n",
              "    .dataframe tbody tr th:only-of-type {\n",
              "        vertical-align: middle;\n",
              "    }\n",
              "\n",
              "    .dataframe tbody tr th {\n",
              "        vertical-align: top;\n",
              "    }\n",
              "\n",
              "    .dataframe thead th {\n",
              "        text-align: right;\n",
              "    }\n",
              "</style>\n",
              "<table border=\"1\" class=\"dataframe\">\n",
              "  <thead>\n",
              "    <tr style=\"text-align: right;\">\n",
              "      <th></th>\n",
              "      <th>Class Index</th>\n",
              "      <th>Title</th>\n",
              "      <th>Description</th>\n",
              "    </tr>\n",
              "  </thead>\n",
              "  <tbody>\n",
              "    <tr>\n",
              "      <th>0</th>\n",
              "      <td>3</td>\n",
              "      <td>Fears for T N pension after talks</td>\n",
              "      <td>Unions representing workers at Turner   Newall...</td>\n",
              "    </tr>\n",
              "    <tr>\n",
              "      <th>1</th>\n",
              "      <td>4</td>\n",
              "      <td>The Race is On: Second Private Team Sets Launc...</td>\n",
              "      <td>SPACE.com - TORONTO, Canada -- A second\\team o...</td>\n",
              "    </tr>\n",
              "    <tr>\n",
              "      <th>2</th>\n",
              "      <td>4</td>\n",
              "      <td>Ky. Company Wins Grant to Study Peptides (AP)</td>\n",
              "      <td>AP - A company founded by a chemistry research...</td>\n",
              "    </tr>\n",
              "    <tr>\n",
              "      <th>3</th>\n",
              "      <td>4</td>\n",
              "      <td>Prediction Unit Helps Forecast Wildfires (AP)</td>\n",
              "      <td>AP - It's barely dawn when Mike Fitzpatrick st...</td>\n",
              "    </tr>\n",
              "    <tr>\n",
              "      <th>4</th>\n",
              "      <td>4</td>\n",
              "      <td>Calif. Aims to Limit Farm-Related Smog (AP)</td>\n",
              "      <td>AP - Southern California's smog-fighting agenc...</td>\n",
              "    </tr>\n",
              "  </tbody>\n",
              "</table>\n",
              "</div>"
            ],
            "text/plain": [
              "   Class Index  ...                                        Description\n",
              "0            3  ...  Unions representing workers at Turner   Newall...\n",
              "1            4  ...  SPACE.com - TORONTO, Canada -- A second\\team o...\n",
              "2            4  ...  AP - A company founded by a chemistry research...\n",
              "3            4  ...  AP - It's barely dawn when Mike Fitzpatrick st...\n",
              "4            4  ...  AP - Southern California's smog-fighting agenc...\n",
              "\n",
              "[5 rows x 3 columns]"
            ]
          },
          "metadata": {
            "tags": []
          },
          "execution_count": 7
        }
      ]
    },
    {
      "cell_type": "markdown",
      "metadata": {
        "id": "lsqhVrrmDWQ2"
      },
      "source": [
        "## Import libraries"
      ]
    },
    {
      "cell_type": "markdown",
      "metadata": {
        "id": "3xh49OwDisal"
      },
      "source": [
        "Here we import all the libraries we need to build and then train our model."
      ]
    },
    {
      "cell_type": "code",
      "metadata": {
        "id": "FGbQCrqhDVrO",
        "outputId": "d1b90c04-1ab6-48d0-cccb-73c95f7e342b",
        "colab": {
          "base_uri": "https://localhost:8080/",
          "height": 102
        }
      },
      "source": [
        "import re\n",
        "import string\n",
        "import numpy as np\n",
        "\n",
        "from nltk.corpus import stopwords\n",
        "from nltk.tokenize import word_tokenize\n",
        "from sklearn.model_selection import train_test_split\n",
        "\n",
        "import tensorflow as tf\n",
        "import tensorflow_datasets as tfds\n",
        "from tensorflow.keras.models import Sequential\n",
        "from tensorflow.keras.layers import Conv1D, MaxPool1D, Dropout, Dense, GlobalMaxPool1D, Embedding, Activation\n",
        "from keras.utils import to_categorical\n",
        "from keras.preprocessing.text import Tokenizer\n",
        "from keras.preprocessing.sequence import pad_sequences\n",
        "from sklearn import preprocessing\n",
        "from sklearn.metrics import classification_report\n",
        "from sklearn.model_selection import train_test_split\n",
        "\n",
        "import nltk\n",
        "nltk.download('punkt')\n",
        "nltk.download('stopwords')"
      ],
      "execution_count": 8,
      "outputs": [
        {
          "output_type": "stream",
          "text": [
            "[nltk_data] Downloading package punkt to /root/nltk_data...\n",
            "[nltk_data]   Package punkt is already up-to-date!\n",
            "[nltk_data] Downloading package stopwords to /root/nltk_data...\n",
            "[nltk_data]   Package stopwords is already up-to-date!\n"
          ],
          "name": "stdout"
        },
        {
          "output_type": "execute_result",
          "data": {
            "text/plain": [
              "True"
            ]
          },
          "metadata": {
            "tags": []
          },
          "execution_count": 8
        }
      ]
    },
    {
      "cell_type": "markdown",
      "metadata": {
        "id": "Y6qJCWp840xY"
      },
      "source": [
        "## Data Preprocessing\n",
        "\n",
        "Here we have to prepare out data, with some text preprocessing, so add special tokens, removing punctuation and stopwords if necessary, and so on."
      ]
    },
    {
      "cell_type": "markdown",
      "metadata": {
        "id": "O9ZwoM5nkOSt"
      },
      "source": [
        "### Rename columns"
      ]
    },
    {
      "cell_type": "code",
      "metadata": {
        "id": "QXAkExDMCva6"
      },
      "source": [
        "# rename labels\n",
        "\n",
        "labels = {1:'World News', 2:'Sports News', 3:'Business News', 4:'Science-Technology News'}\n",
        "\n",
        "train_data['label'] = train_data['Class Index'].map(labels)\n",
        "test_data['label'] = test_data['Class Index'].map(labels)\n",
        "\n",
        "train_data = train_data.drop(columns=['Class Index'])\n",
        "test_data = test_data.drop(columns=['Class Index'])"
      ],
      "execution_count": 9,
      "outputs": []
    },
    {
      "cell_type": "markdown",
      "metadata": {
        "id": "HSdZX6rrkTOK"
      },
      "source": [
        "### Remove punctuation"
      ]
    },
    {
      "cell_type": "markdown",
      "metadata": {
        "id": "Fv1kHPdYiz2N"
      },
      "source": [
        "First of all, we define a function to remove punctuation."
      ]
    },
    {
      "cell_type": "code",
      "metadata": {
        "id": "LTm81Vlm4xEr"
      },
      "source": [
        "# The old and loved remove punctuation function\n",
        "\n",
        "def remove_punc(text):\n",
        "    text = re.sub('\\[.*?\\]', '', text)\n",
        "    text = re.sub('https?://\\S+|www\\.\\S+', '', text)\n",
        "    text = re.sub('<.*?>+', '', text)\n",
        "    text = re.sub('[%s]' % re.escape(string.punctuation), '', text)\n",
        "    text = re.sub('\\n', '', text)\n",
        "    text = re.sub('\\w*\\d\\w*', '', text)\n",
        "    return text"
      ],
      "execution_count": null,
      "outputs": []
    },
    {
      "cell_type": "code",
      "metadata": {
        "id": "YW-T3kbx5otD"
      },
      "source": [
        "train_data['Text'] = train_data['Description'].apply(lambda x: remove_punc(x))\n",
        "test_data['Text'] = test_data['Description'].apply(lambda x: remove_punc(x))"
      ],
      "execution_count": null,
      "outputs": []
    },
    {
      "cell_type": "code",
      "metadata": {
        "id": "p5aNMKEr7asa",
        "outputId": "0cbd8f20-dc6b-4495-8b24-1c7ae84163ed",
        "colab": {
          "base_uri": "https://localhost:8080/",
          "height": 204
        }
      },
      "source": [
        "train_data.head()"
      ],
      "execution_count": null,
      "outputs": [
        {
          "output_type": "execute_result",
          "data": {
            "text/html": [
              "<div>\n",
              "<style scoped>\n",
              "    .dataframe tbody tr th:only-of-type {\n",
              "        vertical-align: middle;\n",
              "    }\n",
              "\n",
              "    .dataframe tbody tr th {\n",
              "        vertical-align: top;\n",
              "    }\n",
              "\n",
              "    .dataframe thead th {\n",
              "        text-align: right;\n",
              "    }\n",
              "</style>\n",
              "<table border=\"1\" class=\"dataframe\">\n",
              "  <thead>\n",
              "    <tr style=\"text-align: right;\">\n",
              "      <th></th>\n",
              "      <th>Class Index</th>\n",
              "      <th>Title</th>\n",
              "      <th>Description</th>\n",
              "      <th>Text</th>\n",
              "    </tr>\n",
              "  </thead>\n",
              "  <tbody>\n",
              "    <tr>\n",
              "      <th>0</th>\n",
              "      <td>3</td>\n",
              "      <td>Wall St. Bears Claw Back Into the Black (Reuters)</td>\n",
              "      <td>Reuters - Short-sellers, Wall Street's dwindli...</td>\n",
              "      <td>Reuters  Shortsellers Wall Streets dwindlingba...</td>\n",
              "    </tr>\n",
              "    <tr>\n",
              "      <th>1</th>\n",
              "      <td>3</td>\n",
              "      <td>Carlyle Looks Toward Commercial Aerospace (Reu...</td>\n",
              "      <td>Reuters - Private investment firm Carlyle Grou...</td>\n",
              "      <td>Reuters  Private investment firm Carlyle Group...</td>\n",
              "    </tr>\n",
              "    <tr>\n",
              "      <th>2</th>\n",
              "      <td>3</td>\n",
              "      <td>Oil and Economy Cloud Stocks' Outlook (Reuters)</td>\n",
              "      <td>Reuters - Soaring crude prices plus worries\\ab...</td>\n",
              "      <td>Reuters  Soaring crude prices plus worriesabou...</td>\n",
              "    </tr>\n",
              "    <tr>\n",
              "      <th>3</th>\n",
              "      <td>3</td>\n",
              "      <td>Iraq Halts Oil Exports from Main Southern Pipe...</td>\n",
              "      <td>Reuters - Authorities have halted oil export\\f...</td>\n",
              "      <td>Reuters  Authorities have halted oil exportflo...</td>\n",
              "    </tr>\n",
              "    <tr>\n",
              "      <th>4</th>\n",
              "      <td>3</td>\n",
              "      <td>Oil prices soar to all-time record, posing new...</td>\n",
              "      <td>AFP - Tearaway world oil prices, toppling reco...</td>\n",
              "      <td>AFP  Tearaway world oil prices toppling record...</td>\n",
              "    </tr>\n",
              "  </tbody>\n",
              "</table>\n",
              "</div>"
            ],
            "text/plain": [
              "   Class Index  ...                                               Text\n",
              "0            3  ...  Reuters  Shortsellers Wall Streets dwindlingba...\n",
              "1            3  ...  Reuters  Private investment firm Carlyle Group...\n",
              "2            3  ...  Reuters  Soaring crude prices plus worriesabou...\n",
              "3            3  ...  Reuters  Authorities have halted oil exportflo...\n",
              "4            3  ...  AFP  Tearaway world oil prices toppling record...\n",
              "\n",
              "[5 rows x 4 columns]"
            ]
          },
          "metadata": {
            "tags": []
          },
          "execution_count": 12
        }
      ]
    },
    {
      "cell_type": "markdown",
      "metadata": {
        "id": "ylOdDFAjkY7G"
      },
      "source": [
        "### Clean text"
      ]
    },
    {
      "cell_type": "markdown",
      "metadata": {
        "id": "tZBFx44Fi6ua"
      },
      "source": [
        "Hence, making use of nltk tokeniser, we clean our text:\n",
        "\n",
        "1. Lowercase our texts.\n",
        "\n",
        "2. Remove stopwords."
      ]
    },
    {
      "cell_type": "code",
      "metadata": {
        "id": "JmZscfdsDpBH"
      },
      "source": [
        "# data cleaning and remove stopwords\n",
        "\n",
        "def data_cleaner(text):        \n",
        "    lower_case = text.lower()\n",
        "    tokens=word_tokenize(lower_case)\n",
        "    return (\" \".join(tokens)).strip()\n",
        "\n",
        "def remove_stopwords (text):        \n",
        "    list1=[word for word in text.split() if word not in stopwords.words('english')]\n",
        "    return \" \".join(list1)\n",
        "\n",
        "train_data['Text'] = train_data['Text'].apply(lambda x: data_cleaner(x))\n",
        "test_data['Text'] = test_data['Text'].apply(lambda x: data_cleaner(x))\n",
        "\n",
        "train_data['Text'] = train_data['Text'].apply(lambda x: remove_stopwords(x))\n",
        "test_data['Text'] = test_data['Text'].apply(lambda x: remove_stopwords(x))"
      ],
      "execution_count": null,
      "outputs": []
    },
    {
      "cell_type": "code",
      "metadata": {
        "id": "W1k23Ui9fTYS"
      },
      "source": [
        "train_data['Text'] = train_data['Description']\n",
        "test_data['Text'] = test_data['Description']"
      ],
      "execution_count": 10,
      "outputs": []
    },
    {
      "cell_type": "markdown",
      "metadata": {
        "id": "SuXZH2ZqjwhZ"
      },
      "source": [
        "### Tokenise"
      ]
    },
    {
      "cell_type": "markdown",
      "metadata": {
        "id": "NEDdAmdakhvN"
      },
      "source": [
        "We make use of Keras tokeniser to assign to each word a number."
      ]
    },
    {
      "cell_type": "code",
      "metadata": {
        "id": "vlxY52a3dGNx"
      },
      "source": [
        "#@title Tokeniser configuration\n",
        "\n",
        "max_len = 75#@param {type:\"integer\"}"
      ],
      "execution_count": 11,
      "outputs": []
    },
    {
      "cell_type": "code",
      "metadata": {
        "id": "aO03dJCrGTP8"
      },
      "source": [
        "tokeniser = Tokenizer()\n",
        "tokeniser.fit_on_texts(train_data['Text'])\n",
        "\n",
        "tokenised_text = tokeniser.texts_to_sequences(train_data['Text'])\n",
        "tokenised_text = pad_sequences(tokenised_text, maxlen=max_len)"
      ],
      "execution_count": 12,
      "outputs": []
    },
    {
      "cell_type": "code",
      "metadata": {
        "id": "Tx-UJnaiGm8l"
      },
      "source": [
        "encoded_labels = preprocessing.LabelEncoder()\n",
        "y = encoded_labels.fit_transform(train_data['label'])\n",
        "y = to_categorical(y)"
      ],
      "execution_count": 13,
      "outputs": []
    },
    {
      "cell_type": "code",
      "metadata": {
        "id": "z0HUzddeG_Ri"
      },
      "source": [
        "tokenised_text_test = tokeniser.texts_to_sequences(test_data['Text'])\n",
        "tokenised_text_test = pad_sequences(tokenised_text_test, maxlen=max_len)"
      ],
      "execution_count": 14,
      "outputs": []
    },
    {
      "cell_type": "code",
      "metadata": {
        "id": "8LfTxo-rHgzn"
      },
      "source": [
        "y_test = encoded_labels.transform(test_data['label'])\n",
        "y_test = to_categorical(y_test)"
      ],
      "execution_count": 15,
      "outputs": []
    },
    {
      "cell_type": "code",
      "metadata": {
        "id": "F7QPvHrVKycK"
      },
      "source": [
        "vocab_size = len(tokeniser.word_index) + 1"
      ],
      "execution_count": 16,
      "outputs": []
    },
    {
      "cell_type": "markdown",
      "metadata": {
        "id": "uWDqS0OJkp5x"
      },
      "source": [
        "We also export the dictionary word-to-index to a `json` file, this will be needed in order to convert a text to-be-classified in a format that the model can digest."
      ]
    },
    {
      "cell_type": "code",
      "metadata": {
        "id": "q4NdZrIiaKIu"
      },
      "source": [
        "# Export the ditionary word-to-index to a json file\n",
        "import json \n",
        "with open( 'word_dict.json' , 'w' ) as file:    \n",
        "    json.dump(tokeniser.word_index , file )"
      ],
      "execution_count": 17,
      "outputs": []
    },
    {
      "cell_type": "markdown",
      "metadata": {
        "id": "e2Esa71rIV7c"
      },
      "source": [
        "### Convert data to TensorFlow datasets"
      ]
    },
    {
      "cell_type": "markdown",
      "metadata": {
        "id": "NCH1Q6f9k56Z"
      },
      "source": [
        "We convert data to Tensorflow dataset, in order to feed the Keras model."
      ]
    },
    {
      "cell_type": "code",
      "metadata": {
        "id": "s0olDSVjHXuB"
      },
      "source": [
        "train_dataset = tf.data.Dataset.from_tensor_slices((tokenised_text, y))\n",
        "test_dataset = tf.data.Dataset.from_tensor_slices((tokenised_text_test, y_test))"
      ],
      "execution_count": 18,
      "outputs": []
    },
    {
      "cell_type": "markdown",
      "metadata": {
        "id": "chDp-zhlIdE6"
      },
      "source": [
        "# Building the model"
      ]
    },
    {
      "cell_type": "code",
      "metadata": {
        "id": "7iRIDaBKbfQP"
      },
      "source": [
        "#@title Model Parameters\n",
        "#@markdown Here we give a minimal set of parameters for model configuration.\n",
        "\n",
        "emb_dim = 64 #@param {type:\"integer\"}\n",
        "dropout_rate = 0.3#@param {type: \"number\"}\n",
        "n_labels = len(labels)\n",
        "\n",
        "learning_rate = 0.0006#@param {type: \"number\"}\n",
        "\n",
        "loss = tf.keras.losses.CategoricalCrossentropy(from_logits=True)\n",
        "metric = tf.keras.metrics.CategoricalAccuracy('accuracy')\n",
        "opt = tf.keras.optimizers.Adam(learning_rate = learning_rate)"
      ],
      "execution_count": 22,
      "outputs": []
    },
    {
      "cell_type": "markdown",
      "metadata": {
        "id": "zQuGa5eNlAvC"
      },
      "source": [
        "We are now ready to build our model, making use of Keras `Sequential` object."
      ]
    },
    {
      "cell_type": "code",
      "metadata": {
        "id": "CpEGQMkZHyAf",
        "outputId": "17b30522-856a-4961-b3c1-46f9ebd5fbbf",
        "colab": {
          "base_uri": "https://localhost:8080/",
          "height": 697
        }
      },
      "source": [
        "# build the model\n",
        "keras_model = Sequential()\n",
        "keras_model.add(Embedding(vocab_size, output_dim = emb_dim, input_length=max_len))\n",
        "keras_model.add(Dropout(dropout_rate))\n",
        "keras_model.add(Conv1D(50, 3, activation='relu', padding='same', strides=1))\n",
        "keras_model.add(MaxPool1D())\n",
        "keras_model.add(Dropout(dropout_rate))\n",
        "keras_model.add(Conv1D(100, 3, activation='relu', padding='same', strides=1))\n",
        "keras_model.add(MaxPool1D())\n",
        "keras_model.add(Dropout(dropout_rate))\n",
        "keras_model.add(Conv1D(200, 3, activation='relu', padding='same', strides=1))\n",
        "keras_model.add(GlobalMaxPool1D())\n",
        "keras_model.add(Dropout(dropout_rate))\n",
        "keras_model.add(Dense(100))\n",
        "keras_model.add(Activation('relu'))\n",
        "keras_model.add(Dropout(dropout_rate))\n",
        "keras_model.add(Dense(n_labels))\n",
        "keras_model.add(Activation('softmax'))\n",
        "keras_model.compile(loss=loss, metrics=[metric], optimizer=opt)\n",
        "keras_model.summary()"
      ],
      "execution_count": 23,
      "outputs": [
        {
          "output_type": "stream",
          "text": [
            "Model: \"sequential_1\"\n",
            "_________________________________________________________________\n",
            "Layer (type)                 Output Shape              Param #   \n",
            "=================================================================\n",
            "embedding_1 (Embedding)      (None, 75, 64)            4079296   \n",
            "_________________________________________________________________\n",
            "dropout_5 (Dropout)          (None, 75, 64)            0         \n",
            "_________________________________________________________________\n",
            "conv1d_3 (Conv1D)            (None, 75, 50)            9650      \n",
            "_________________________________________________________________\n",
            "max_pooling1d_2 (MaxPooling1 (None, 37, 50)            0         \n",
            "_________________________________________________________________\n",
            "dropout_6 (Dropout)          (None, 37, 50)            0         \n",
            "_________________________________________________________________\n",
            "conv1d_4 (Conv1D)            (None, 37, 100)           15100     \n",
            "_________________________________________________________________\n",
            "max_pooling1d_3 (MaxPooling1 (None, 18, 100)           0         \n",
            "_________________________________________________________________\n",
            "dropout_7 (Dropout)          (None, 18, 100)           0         \n",
            "_________________________________________________________________\n",
            "conv1d_5 (Conv1D)            (None, 18, 200)           60200     \n",
            "_________________________________________________________________\n",
            "global_max_pooling1d_1 (Glob (None, 200)               0         \n",
            "_________________________________________________________________\n",
            "dropout_8 (Dropout)          (None, 200)               0         \n",
            "_________________________________________________________________\n",
            "dense_2 (Dense)              (None, 100)               20100     \n",
            "_________________________________________________________________\n",
            "activation_2 (Activation)    (None, 100)               0         \n",
            "_________________________________________________________________\n",
            "dropout_9 (Dropout)          (None, 100)               0         \n",
            "_________________________________________________________________\n",
            "dense_3 (Dense)              (None, 4)                 404       \n",
            "_________________________________________________________________\n",
            "activation_3 (Activation)    (None, 4)                 0         \n",
            "=================================================================\n",
            "Total params: 4,184,750\n",
            "Trainable params: 4,184,750\n",
            "Non-trainable params: 0\n",
            "_________________________________________________________________\n"
          ],
          "name": "stdout"
        }
      ]
    },
    {
      "cell_type": "markdown",
      "metadata": {
        "id": "j2aNBmVAlLXk"
      },
      "source": [
        "# Training"
      ]
    },
    {
      "cell_type": "markdown",
      "metadata": {
        "id": "YiE1kwqflSPI"
      },
      "source": [
        "We are now ready to launch the training, though the `fit` method, we set the numebr of epochs and launch the model."
      ]
    },
    {
      "cell_type": "code",
      "metadata": {
        "id": "gW4Mynh4LBOa",
        "outputId": "d7e184d8-e40a-4f01-c999-0599b4b31c89",
        "colab": {
          "base_uri": "https://localhost:8080/",
          "height": 272
        }
      },
      "source": [
        "#@title Model Training\n",
        "#@markdown We can move the slider to set number of epochs \n",
        "#@markdown and give a different batch size.\n",
        "\n",
        "number_of_epochs = 7 #@param {type: \"slider\", min: 1, max: 12}\n",
        "batch_size = 64 #@param [\"2\", \"8\", \"16\", \"32\", \"64\", \"128\", \"256\", \"512\"] {type:\"raw\", allow-input: true}\n",
        "\n",
        "# train dataset\n",
        "ds_train_encoded = train_dataset.shuffle(10000).batch(batch_size)\n",
        "\n",
        "# test dataset\n",
        "ds_test_encoded = test_dataset.batch(batch_size)\n",
        "\n",
        "keras_model.fit(ds_train_encoded, epochs=number_of_epochs, validation_data=ds_test_encoded)"
      ],
      "execution_count": 24,
      "outputs": [
        {
          "output_type": "stream",
          "text": [
            "Epoch 1/7\n",
            "1875/1875 [==============================] - 73s 39ms/step - loss: 0.9571 - accuracy: 0.7741 - val_loss: 0.8554 - val_accuracy: 0.8867\n",
            "Epoch 2/7\n",
            "1875/1875 [==============================] - 72s 38ms/step - loss: 0.8462 - accuracy: 0.8962 - val_loss: 0.8482 - val_accuracy: 0.8943\n",
            "Epoch 3/7\n",
            "1875/1875 [==============================] - 72s 39ms/step - loss: 0.8337 - accuracy: 0.9089 - val_loss: 0.8438 - val_accuracy: 0.8986\n",
            "Epoch 4/7\n",
            "1875/1875 [==============================] - 72s 38ms/step - loss: 0.8272 - accuracy: 0.9157 - val_loss: 0.8450 - val_accuracy: 0.8980\n",
            "Epoch 5/7\n",
            "1875/1875 [==============================] - 72s 38ms/step - loss: 0.8225 - accuracy: 0.9205 - val_loss: 0.8434 - val_accuracy: 0.8988\n",
            "Epoch 6/7\n",
            "1875/1875 [==============================] - 72s 38ms/step - loss: 0.8207 - accuracy: 0.9225 - val_loss: 0.8434 - val_accuracy: 0.8993\n",
            "Epoch 7/7\n",
            "1875/1875 [==============================] - 72s 38ms/step - loss: 0.8187 - accuracy: 0.9245 - val_loss: 0.8388 - val_accuracy: 0.9042\n"
          ],
          "name": "stdout"
        },
        {
          "output_type": "execute_result",
          "data": {
            "text/plain": [
              "<tensorflow.python.keras.callbacks.History at 0x7fe6fab297f0>"
            ]
          },
          "metadata": {
            "tags": []
          },
          "execution_count": 24
        }
      ]
    },
    {
      "cell_type": "markdown",
      "metadata": {
        "id": "YTAkbxmAkzXw"
      },
      "source": [
        "## Evaluation"
      ]
    },
    {
      "cell_type": "code",
      "metadata": {
        "id": "Ur72xoP8k2cy",
        "outputId": "281b88cb-a1a3-45ea-ba91-b28436de1cbe",
        "colab": {
          "base_uri": "https://localhost:8080/",
          "height": 221
        }
      },
      "source": [
        "y_pred = to_categorical(np.argmax(keras_model.predict(tokenised_text_test), axis=1))\n",
        "\n",
        "print(classification_report(y_test, y_pred, target_names=labels.values(), digits=4))"
      ],
      "execution_count": 25,
      "outputs": [
        {
          "output_type": "stream",
          "text": [
            "                         precision    recall  f1-score   support\n",
            "\n",
            "             World News     0.8657    0.8616    0.8636      1900\n",
            "            Sports News     0.8713    0.8905    0.8808      1900\n",
            "          Business News     0.9518    0.9763    0.9639      1900\n",
            "Science-Technology News     0.9285    0.8884    0.9080      1900\n",
            "\n",
            "              micro avg     0.9042    0.9042    0.9042      7600\n",
            "              macro avg     0.9043    0.9042    0.9041      7600\n",
            "           weighted avg     0.9043    0.9042    0.9041      7600\n",
            "            samples avg     0.9042    0.9042    0.9042      7600\n",
            "\n"
          ],
          "name": "stdout"
        }
      ]
    },
    {
      "cell_type": "markdown",
      "metadata": {
        "id": "TffY8C8amVJR"
      },
      "source": [
        "# Predictions"
      ]
    },
    {
      "cell_type": "markdown",
      "metadata": {
        "id": "aNaGZtuMmZKQ"
      },
      "source": [
        "Finally, we can now try to make predictions with our model.\n",
        "\n",
        "The function `encode` below takes a text stream and returns the sequence of word indices. \n",
        "\n",
        "The encoded text is the input of the `predict` method of our model."
      ]
    },
    {
      "cell_type": "code",
      "metadata": {
        "id": "EBRsoV-_Ykh5"
      },
      "source": [
        "def encode(text):\n",
        "  text = tokeniser.texts_to_sequences(text)\n",
        "  return pad_sequences(text, maxlen=max_len)"
      ],
      "execution_count": 26,
      "outputs": []
    },
    {
      "cell_type": "markdown",
      "metadata": {
        "id": "DIhV0Wjqmxx3"
      },
      "source": [
        "Here some examples. \n",
        "Feel free to add as many other sentences as you like."
      ]
    },
    {
      "cell_type": "code",
      "metadata": {
        "id": "s_yai4MLZRfu"
      },
      "source": [
        "additional_sentence = \"Apple iphone 12 is out!\" #@param {type:\"string\"}\n",
        "\n",
        "my_sentences = ['President Bush wants the war in Iraq, again', \n",
        "                \"LeBron James wins the NBA championship with Los Angeles Lakers\", \n",
        "                \"Eni stock action value rise up to 14$\",\n",
        "                \"Futures in New York held near $41 a barrel after Saudi Oil Minister Prince Abdulaziz Bin Salman called on the OPEC+ alliance to be proactive in the face of uncertain demand. Yet a draft statement from the meeting made no mention of any changes to the current deal, which calls for production cuts to be eased from January. The market is also looking out for any signs that a stimulus deal can still be agreed in Washington ahead of the election while a resurgence in the pandemic threatens any recovery.\",\n",
        "                additional_sentence\n",
        "                ]\n",
        "\n",
        "encode(my_sentences);"
      ],
      "execution_count": 27,
      "outputs": []
    },
    {
      "cell_type": "markdown",
      "metadata": {
        "id": "GClE9Y94nUAo"
      },
      "source": [
        "`predict` method returns a vector of probablities."
      ]
    },
    {
      "cell_type": "code",
      "metadata": {
        "id": "t9fUlVDJZcik",
        "outputId": "64dcf7b3-58ec-42e2-af68-26cd5800d951",
        "colab": {
          "base_uri": "https://localhost:8080/",
          "height": 119
        }
      },
      "source": [
        "keras_model.predict(encode(my_sentences))"
      ],
      "execution_count": 28,
      "outputs": [
        {
          "output_type": "execute_result",
          "data": {
            "text/plain": [
              "array([[2.4516769e-34, 2.4753018e-34, 9.8879884e-30, 1.0000000e+00],\n",
              "       [0.0000000e+00, 0.0000000e+00, 1.0000000e+00, 0.0000000e+00],\n",
              "       [1.0000000e+00, 5.2323827e-27, 1.5954859e-30, 6.1629427e-29],\n",
              "       [1.0000000e+00, 1.8224776e-11, 7.9000709e-11, 3.5611195e-11],\n",
              "       [0.0000000e+00, 1.0000000e+00, 0.0000000e+00, 0.0000000e+00]],\n",
              "      dtype=float32)"
            ]
          },
          "metadata": {
            "tags": []
          },
          "execution_count": 28
        }
      ]
    },
    {
      "cell_type": "markdown",
      "metadata": {
        "id": "2vYthelGnbms"
      },
      "source": [
        "In order to get the predicted class, one can call the `argmax` function."
      ]
    },
    {
      "cell_type": "code",
      "metadata": {
        "id": "UAaREXccaZD6",
        "outputId": "4ac1f1d4-6f1e-4cb6-9aad-1bfa2dd83b8c",
        "colab": {
          "base_uri": "https://localhost:8080/",
          "height": 207
        }
      },
      "source": [
        "for i, sen in enumerate(my_sentences):\n",
        "  print(i, sen)\n",
        "  print(encoded_labels.classes_[np.argmax(keras_model.predict(encode(my_sentences))[i])])"
      ],
      "execution_count": 29,
      "outputs": [
        {
          "output_type": "stream",
          "text": [
            "0 President Bush wants the war in Iraq, again\n",
            "World News\n",
            "1 LeBron James wins the NBA championship with Los Angeles Lakers\n",
            "Sports News\n",
            "2 Eni stock action value rise up to 14$\n",
            "Business News\n",
            "3 Futures in New York held near $41 a barrel after Saudi Oil Minister Prince Abdulaziz Bin Salman called on the OPEC+ alliance to be proactive in the face of uncertain demand. Yet a draft statement from the meeting made no mention of any changes to the current deal, which calls for production cuts to be eased from January. The market is also looking out for any signs that a stimulus deal can still be agreed in Washington ahead of the election while a resurgence in the pandemic threatens any recovery.\n",
            "Business News\n",
            "4 Apple iphone 12 is out!\n",
            "Science-Technology News\n"
          ],
          "name": "stdout"
        }
      ]
    },
    {
      "cell_type": "markdown",
      "metadata": {
        "id": "dSStIitN7_bK"
      },
      "source": [
        "# Save model and export in JavaScript"
      ]
    },
    {
      "cell_type": "markdown",
      "metadata": {
        "id": "zXFZuCMOnk6i"
      },
      "source": [
        "In order to convert our model using Tensorflow.js, we have to save the trained model."
      ]
    },
    {
      "cell_type": "code",
      "metadata": {
        "id": "PLhmQHok7-sW"
      },
      "source": [
        "#save Keras model\n",
        "saved_model_path = \"modelCNN.h5\"\n",
        "\n",
        "keras_model.save(saved_model_path)"
      ],
      "execution_count": 30,
      "outputs": []
    },
    {
      "cell_type": "markdown",
      "metadata": {
        "id": "ll0V2AVtnwho"
      },
      "source": [
        "Hence, we are ready to convert the saved model."
      ]
    },
    {
      "cell_type": "code",
      "metadata": {
        "id": "Ux3IC9uq8Qeh",
        "outputId": "47642b3b-3c04-4400-80c5-d605751faa79",
        "colab": {
          "base_uri": "https://localhost:8080/",
          "height": 34
        }
      },
      "source": [
        "%%bash\n",
        "tensorflowjs_converter --input_format=keras modelCNN.h5 ./model/"
      ],
      "execution_count": 31,
      "outputs": [
        {
          "output_type": "stream",
          "text": [
            "2020-10-26 11:53:42.024115: I tensorflow/stream_executor/platform/default/dso_loader.cc:48] Successfully opened dynamic library libcudart.so.10.1\n"
          ],
          "name": "stderr"
        }
      ]
    },
    {
      "cell_type": "markdown",
      "metadata": {
        "id": "PCV2uTkGn045"
      },
      "source": [
        "Since we have not only the model, but also weights files, we zip everything to make it ready to download."
      ]
    },
    {
      "cell_type": "code",
      "metadata": {
        "id": "6DTmN8L6_05O",
        "outputId": "9bee57e2-1d59-4be1-b28c-6f2b5fd48c5b",
        "colab": {
          "base_uri": "https://localhost:8080/",
          "height": 119
        }
      },
      "source": [
        "%%bash\n",
        "zip -r model.zip ./model"
      ],
      "execution_count": 32,
      "outputs": [
        {
          "output_type": "stream",
          "text": [
            "  adding: model/ (stored 0%)\n",
            "  adding: model/group1-shard4of4.bin (deflated 8%)\n",
            "  adding: model/group1-shard2of4.bin (deflated 7%)\n",
            "  adding: model/model.json (deflated 82%)\n",
            "  adding: model/group1-shard1of4.bin (deflated 7%)\n",
            "  adding: model/group1-shard3of4.bin (deflated 7%)\n"
          ],
          "name": "stdout"
        }
      ]
    },
    {
      "cell_type": "code",
      "metadata": {
        "id": "ATP6pE1NwddB"
      },
      "source": [
        ""
      ],
      "execution_count": null,
      "outputs": []
    }
  ]
}